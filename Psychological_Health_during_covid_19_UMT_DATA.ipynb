{
  "nbformat": 4,
  "nbformat_minor": 0,
  "metadata": {
    "kernelspec": {
      "display_name": "Python 3",
      "language": "python",
      "name": "python3"
    },
    "language_info": {
      "codemirror_mode": {
        "name": "ipython",
        "version": 3
      },
      "file_extension": ".py",
      "mimetype": "text/x-python",
      "name": "python",
      "nbconvert_exporter": "python",
      "pygments_lexer": "ipython3",
      "version": "3.7.6"
    },
    "colab": {
      "name": "Psychological_Health_during_covid-19_UMT_DATA.ipynb",
      "provenance": [],
      "collapsed_sections": []
    }
  },
  "cells": [
    {
      "cell_type": "markdown",
      "metadata": {
        "id": "jhz6P1lqJY3t"
      },
      "source": [
        "---\n",
        "**University of management and technology (UMT), Lahore**\n",
        "\n",
        "\n",
        "\n",
        "**students’ psychological health impacted by using e-learning tools during COVID-19**\n",
        "\n",
        "\n",
        "\n",
        "\n",
        "---\n",
        "\n"
      ]
    },
    {
      "cell_type": "markdown",
      "metadata": {
        "id": "xlknie22J1au"
      },
      "source": [
        "---\n",
        "\n",
        "**By:**\n",
        "\n",
        "**Khushal Das - khushaldasparmar@gmail.com**\n"
      ]
    },
    {
      "cell_type": "code",
      "metadata": {
        "id": "BSHXFKmhIwwy"
      },
      "source": [
        "import pandas as pd\n",
        "import numpy as np"
      ],
      "execution_count": null,
      "outputs": []
    },
    {
      "cell_type": "code",
      "metadata": {
        "id": "WqDZWOnjNMdZ"
      },
      "source": [
        "import matplotlib as mpl\n",
        "import matplotlib.pyplot as plt\n",
        "mpl.style.use(['ggplot'])"
      ],
      "execution_count": null,
      "outputs": []
    },
    {
      "cell_type": "code",
      "metadata": {
        "id": "m0a3F0FpS4AI"
      },
      "source": [
        "from sklearn import preprocessing\n",
        "from sklearn import metrics\n",
        "from sklearn.model_selection import train_test_split"
      ],
      "execution_count": null,
      "outputs": []
    },
    {
      "cell_type": "code",
      "metadata": {
        "colab": {
          "base_uri": "https://localhost:8080/",
          "height": 684
        },
        "id": "UAkDDTRdIwxI",
        "outputId": "c41323e0-e772-4a71-b8a7-d4f268af3fd6"
      },
      "source": [
        "# read data set file\n",
        "df = pd.read_csv('umtData.csv')\n",
        "df.head()"
      ],
      "execution_count": null,
      "outputs": [
        {
          "output_type": "execute_result",
          "data": {
            "text/html": [
              "<div>\n",
              "<style scoped>\n",
              "    .dataframe tbody tr th:only-of-type {\n",
              "        vertical-align: middle;\n",
              "    }\n",
              "\n",
              "    .dataframe tbody tr th {\n",
              "        vertical-align: top;\n",
              "    }\n",
              "\n",
              "    .dataframe thead th {\n",
              "        text-align: right;\n",
              "    }\n",
              "</style>\n",
              "<table border=\"1\" class=\"dataframe\">\n",
              "  <thead>\n",
              "    <tr style=\"text-align: right;\">\n",
              "      <th></th>\n",
              "      <th>Timestamp</th>\n",
              "      <th>UMT Student ID</th>\n",
              "      <th>Gender</th>\n",
              "      <th>Age</th>\n",
              "      <th>Education Level/Year</th>\n",
              "      <th>Your cumulative average (GPA)</th>\n",
              "      <th>Before COVID-19: Which of the following digital tool do you usually use?</th>\n",
              "      <th>After COVID-19: Which of the following digital tool do you usually use?</th>\n",
              "      <th>Before COVID-19: How much time do you spend using digital tools in learning?</th>\n",
              "      <th>After COVID-19: How much time do you spend using the digital tools in learning?</th>\n",
              "      <th>Before COVID-19: I always use digital tools (mobile, laptop, i-pad) in studying.</th>\n",
              "      <th>After COVID-19: I always use digital tools (mobile, laptop, i-pad) in studying.</th>\n",
              "      <th>Before COVID-19: When I use the mobile phone, tablet, or laptop in e-learning, I cannot concentrate and I am distracted.</th>\n",
              "      <th>After COVID-19: When I use the mobile phone, tablet, or laptop in e-learning, I cannot concentrate and I am distracted.</th>\n",
              "      <th>Before COVID-19: I have fixed hours for bedtime and wake-up.</th>\n",
              "      <th>After COVID-19: I have fixed hours for bedtime and wake-up.</th>\n",
              "      <th>Before COVID-19: Prolonged use of digital tools for learning (mobile, laptop, i-pad) affected my sleeping habits.</th>\n",
              "      <th>After COVID-19: Prolonged use of digital tools for learning (mobile, laptop, i-pad) affected my sleeping habits.</th>\n",
              "      <th>Before COVID-19: Continuous exposure to electronic screens in online learning is tiring and exhausting</th>\n",
              "      <th>After COVID-19: Continuous exposure to electronic screens in online learning is tiring and exhausting.</th>\n",
              "      <th>The distance learning system, caused by the COVID-19 epidemic, resulted in social distancing.</th>\n",
              "      <th>Prolonged use of digital tools (mobile, laptop, i-pad) causes students’ isolation</th>\n",
              "      <th>University learning contributes to strengthening the social personality of students.</th>\n",
              "      <th>Staying home for long periods of time leads to lethargy and laziness.</th>\n",
              "      <th>Prolonged use of e-learning tools often leads to boredom, nervousness, and tension.</th>\n",
              "      <th>The psychological element is a key factor in the success of the educational process.</th>\n",
              "      <th>Some students cannot afford to buy all the necessary digital tools, which is embarrassing and frustrating.</th>\n",
              "      <th>I don’t recommend continuing with the online learning model because it is socially and psychologically unhealthy.</th>\n",
              "      <th>Measures of lockdown, closures, and quarantine, brought by COVID-19 caused stress, frustration, and depression.</th>\n",
              "      <th>The use of digital learning tools is responsible for my low academic performance.</th>\n",
              "      <th>The volume of assignments via e-learning led to confusion, frustration, and poor performance.</th>\n",
              "      <th>Face-to-face interaction contributes significantly to boosting students’ academic achievement.</th>\n",
              "      <th>Taking quizzes and exams online from home was not comfortable and made me nervous.</th>\n",
              "      <th>Before Covid: University Staff is very helpful</th>\n",
              "      <th>After Covid: University Staff is very helpful</th>\n",
              "      <th>Any Comments or Suggestions</th>\n",
              "    </tr>\n",
              "  </thead>\n",
              "  <tbody>\n",
              "    <tr>\n",
              "      <th>0</th>\n",
              "      <td>2020/12/31 12:18:25 AM GMT+5</td>\n",
              "      <td>15004119003</td>\n",
              "      <td>Male</td>\n",
              "      <td>18-24</td>\n",
              "      <td>Bachelor- Final year</td>\n",
              "      <td>3.5</td>\n",
              "      <td>Mobile Phone</td>\n",
              "      <td>Laptop</td>\n",
              "      <td>3-6</td>\n",
              "      <td>1-3</td>\n",
              "      <td>Agree</td>\n",
              "      <td>Agree</td>\n",
              "      <td>Strongly disagree</td>\n",
              "      <td>Agree</td>\n",
              "      <td>Agree</td>\n",
              "      <td>strongly agree</td>\n",
              "      <td>Strongly disagree</td>\n",
              "      <td>Agree</td>\n",
              "      <td>Strongly agree</td>\n",
              "      <td>Agree</td>\n",
              "      <td>strongly agree</td>\n",
              "      <td>Agree</td>\n",
              "      <td>Disagree</td>\n",
              "      <td>Agree</td>\n",
              "      <td>Strongly disagree</td>\n",
              "      <td>Agree</td>\n",
              "      <td>Disagree</td>\n",
              "      <td>Agree</td>\n",
              "      <td>strongly agree</td>\n",
              "      <td>Strongly disagree</td>\n",
              "      <td>Agree</td>\n",
              "      <td>Agree</td>\n",
              "      <td>Disagree</td>\n",
              "      <td>Agree</td>\n",
              "      <td>Agree</td>\n",
              "      <td>NaN</td>\n",
              "    </tr>\n",
              "    <tr>\n",
              "      <th>1</th>\n",
              "      <td>2020/12/31 12:21:50 AM GMT+5</td>\n",
              "      <td>F2020313020</td>\n",
              "      <td>Female</td>\n",
              "      <td>18-24</td>\n",
              "      <td>Masters</td>\n",
              "      <td>3.14</td>\n",
              "      <td>Laptop</td>\n",
              "      <td>Laptop</td>\n",
              "      <td>1-3</td>\n",
              "      <td>9-12</td>\n",
              "      <td>Strongly disagree</td>\n",
              "      <td>Strongly agree</td>\n",
              "      <td>Neutral</td>\n",
              "      <td>Neutral</td>\n",
              "      <td>Strongly agree</td>\n",
              "      <td>NaN</td>\n",
              "      <td>Strongly disagree</td>\n",
              "      <td>Strongly agree</td>\n",
              "      <td>Disagree</td>\n",
              "      <td>strongly agree</td>\n",
              "      <td>Agree</td>\n",
              "      <td>Agree</td>\n",
              "      <td>Agree</td>\n",
              "      <td>Agree</td>\n",
              "      <td>Agree</td>\n",
              "      <td>Neutral</td>\n",
              "      <td>Neutral</td>\n",
              "      <td>strongly agree</td>\n",
              "      <td>strongly agree</td>\n",
              "      <td>Strongly agree</td>\n",
              "      <td>Neutral</td>\n",
              "      <td>strongly agree</td>\n",
              "      <td>Neutral</td>\n",
              "      <td>Strongly agree</td>\n",
              "      <td>Neutral</td>\n",
              "      <td>NaN</td>\n",
              "    </tr>\n",
              "    <tr>\n",
              "      <th>2</th>\n",
              "      <td>2020/12/31 12:30:26 AM GMT+5</td>\n",
              "      <td>F2020313013</td>\n",
              "      <td>Male</td>\n",
              "      <td>18-24</td>\n",
              "      <td>Masters</td>\n",
              "      <td>NaN</td>\n",
              "      <td>Mobile Phone</td>\n",
              "      <td>Laptop</td>\n",
              "      <td>1-3</td>\n",
              "      <td>1-3</td>\n",
              "      <td>Disagree</td>\n",
              "      <td>Agree</td>\n",
              "      <td>Disagree</td>\n",
              "      <td>Agree</td>\n",
              "      <td>Disgree</td>\n",
              "      <td>Disgree</td>\n",
              "      <td>Strongly disagree</td>\n",
              "      <td>Strongly disagree</td>\n",
              "      <td>Disagree</td>\n",
              "      <td>Agree</td>\n",
              "      <td>Agree</td>\n",
              "      <td>Agree</td>\n",
              "      <td>Disagree</td>\n",
              "      <td>Agree</td>\n",
              "      <td>Agree</td>\n",
              "      <td>Agree</td>\n",
              "      <td>Agree</td>\n",
              "      <td>Agree</td>\n",
              "      <td>Agree</td>\n",
              "      <td>Agree</td>\n",
              "      <td>Agree</td>\n",
              "      <td>Agree</td>\n",
              "      <td>Agree</td>\n",
              "      <td>Agree</td>\n",
              "      <td>Disagree</td>\n",
              "      <td>Great survey. Good luck for analysis</td>\n",
              "    </tr>\n",
              "    <tr>\n",
              "      <th>3</th>\n",
              "      <td>2020/12/31 12:57:36 AM GMT+5</td>\n",
              "      <td>f2020313008</td>\n",
              "      <td>Male</td>\n",
              "      <td>18-24</td>\n",
              "      <td>Masters</td>\n",
              "      <td>2.7</td>\n",
              "      <td>Laptop</td>\n",
              "      <td>Laptop</td>\n",
              "      <td>6-9</td>\n",
              "      <td>6-9</td>\n",
              "      <td>Strongly agree</td>\n",
              "      <td>Strongly agree</td>\n",
              "      <td>Strongly disagree</td>\n",
              "      <td>Strongly disagree</td>\n",
              "      <td>Strongly disagree</td>\n",
              "      <td>Strongly disagree</td>\n",
              "      <td>Strongly disagree</td>\n",
              "      <td>Strongly disagree</td>\n",
              "      <td>Strongly disagree</td>\n",
              "      <td>Strongly disagree</td>\n",
              "      <td>Strongly agree</td>\n",
              "      <td>Strongly disagree</td>\n",
              "      <td>Strongly disagree</td>\n",
              "      <td>strongly disagree</td>\n",
              "      <td>Agree</td>\n",
              "      <td>Agree</td>\n",
              "      <td>Strongly disagree</td>\n",
              "      <td>Neutral</td>\n",
              "      <td>Strongly disagree</td>\n",
              "      <td>Strongly disagree</td>\n",
              "      <td>Disagree</td>\n",
              "      <td>Disagree</td>\n",
              "      <td>Disagree</td>\n",
              "      <td>Disagree</td>\n",
              "      <td>Agree</td>\n",
              "      <td>through out the covid-19 My life had completed...</td>\n",
              "    </tr>\n",
              "    <tr>\n",
              "      <th>4</th>\n",
              "      <td>2020/12/31 1:01:01 AM GMT+5</td>\n",
              "      <td>F2018005100</td>\n",
              "      <td>Female</td>\n",
              "      <td>18-24</td>\n",
              "      <td>Bachelor - Third year</td>\n",
              "      <td>3.99</td>\n",
              "      <td>Mobile Phone</td>\n",
              "      <td>Laptop</td>\n",
              "      <td>6-9</td>\n",
              "      <td>+12</td>\n",
              "      <td>Strongly agree</td>\n",
              "      <td>Strongly agree</td>\n",
              "      <td>Disagree</td>\n",
              "      <td>Strongly Agree</td>\n",
              "      <td>Strongly agree</td>\n",
              "      <td>Disgree</td>\n",
              "      <td>Neutral</td>\n",
              "      <td>Strongly agree</td>\n",
              "      <td>Strongly agree</td>\n",
              "      <td>Agree</td>\n",
              "      <td>Agree</td>\n",
              "      <td>Agree</td>\n",
              "      <td>Agree</td>\n",
              "      <td>Strongly agree</td>\n",
              "      <td>Agree</td>\n",
              "      <td>Agree</td>\n",
              "      <td>Strongly agree</td>\n",
              "      <td>Strongly agree</td>\n",
              "      <td>Agree</td>\n",
              "      <td>Agree</td>\n",
              "      <td>Agree</td>\n",
              "      <td>Agree</td>\n",
              "      <td>Agree</td>\n",
              "      <td>Agree</td>\n",
              "      <td>Neutral</td>\n",
              "      <td>NaN</td>\n",
              "    </tr>\n",
              "  </tbody>\n",
              "</table>\n",
              "</div>"
            ],
            "text/plain": [
              "                      Timestamp  ...                       Any Comments or Suggestions \n",
              "0  2020/12/31 12:18:25 AM GMT+5  ...                                                NaN\n",
              "1  2020/12/31 12:21:50 AM GMT+5  ...                                                NaN\n",
              "2  2020/12/31 12:30:26 AM GMT+5  ...               Great survey. Good luck for analysis\n",
              "3  2020/12/31 12:57:36 AM GMT+5  ...  through out the covid-19 My life had completed...\n",
              "4   2020/12/31 1:01:01 AM GMT+5  ...                                                NaN\n",
              "\n",
              "[5 rows x 36 columns]"
            ]
          },
          "metadata": {
            "tags": []
          },
          "execution_count": 70
        }
      ]
    },
    {
      "cell_type": "code",
      "metadata": {
        "colab": {
          "base_uri": "https://localhost:8080/"
        },
        "id": "4sn5sQphIwxK",
        "outputId": "c24cd03d-4145-4549-96c7-7d4661a4e256"
      },
      "source": [
        "# dimentions of dataset\n",
        "df.shape"
      ],
      "execution_count": null,
      "outputs": [
        {
          "output_type": "execute_result",
          "data": {
            "text/plain": [
              "(731, 36)"
            ]
          },
          "metadata": {
            "tags": []
          },
          "execution_count": 71
        }
      ]
    },
    {
      "cell_type": "code",
      "metadata": {
        "colab": {
          "base_uri": "https://localhost:8080/"
        },
        "id": "jO-6XLYFIwxL",
        "outputId": "90f85181-6ac3-49b2-84b5-752ffe2e49b9"
      },
      "source": [
        "#Name of columns\n",
        "df.columns"
      ],
      "execution_count": null,
      "outputs": [
        {
          "output_type": "execute_result",
          "data": {
            "text/plain": [
              "Index(['Timestamp', 'UMT Student ID', 'Gender', 'Age', 'Education Level/Year',\n",
              "       'Your cumulative average (GPA)',\n",
              "       'Before COVID-19: Which of the following digital tool do you usually use?',\n",
              "       'After COVID-19: Which of the following digital tool do you usually use?',\n",
              "       'Before COVID-19: How much time do you spend using digital tools in learning?',\n",
              "       'After COVID-19: How much time do you spend using the digital tools in learning?',\n",
              "       'Before COVID-19: I always use digital tools (mobile, laptop, i-pad) in studying.',\n",
              "       'After COVID-19: I always use digital tools (mobile, laptop, i-pad) in studying.',\n",
              "       'Before COVID-19: When I use the mobile phone, tablet, or laptop in e-learning, I cannot concentrate and I am distracted.',\n",
              "       'After COVID-19: When I use the mobile phone, tablet, or laptop in e-learning, I cannot concentrate and I am distracted.',\n",
              "       'Before COVID-19: I have fixed hours for bedtime and wake-up.',\n",
              "       'After COVID-19: I have fixed hours for bedtime and wake-up. ',\n",
              "       'Before COVID-19: Prolonged use of digital tools for learning (mobile, laptop, i-pad) affected my sleeping habits.',\n",
              "       'After COVID-19: Prolonged use of digital tools for learning (mobile, laptop, i-pad) affected my sleeping habits.',\n",
              "       'Before COVID-19: Continuous exposure to electronic screens in online learning is tiring and exhausting',\n",
              "       'After COVID-19: Continuous exposure to electronic screens in online learning is tiring and exhausting.',\n",
              "       'The distance learning system, caused by the COVID-19 epidemic, resulted in social distancing.',\n",
              "       'Prolonged use of digital tools (mobile, laptop, i-pad) causes students’ isolation',\n",
              "       'University learning contributes to strengthening the social personality of students.',\n",
              "       'Staying home for long periods of time leads to lethargy and laziness.',\n",
              "       'Prolonged use of e-learning tools often leads to boredom, nervousness, and tension.',\n",
              "       'The psychological element is a key factor in the success of the educational process.',\n",
              "       'Some students cannot afford to buy all the necessary digital tools, which is embarrassing and frustrating.',\n",
              "       'I don’t recommend continuing with the online learning model because it is socially and psychologically unhealthy.',\n",
              "       'Measures of lockdown, closures, and quarantine, brought by COVID-19 caused stress, frustration, and depression.',\n",
              "       'The use of digital learning tools is responsible for my low academic performance.',\n",
              "       'The volume of assignments via e-learning led to confusion, frustration, and poor performance. ',\n",
              "       'Face-to-face interaction contributes significantly to boosting students’ academic achievement.',\n",
              "       'Taking quizzes and exams online from home was not comfortable and made me nervous.',\n",
              "       'Before Covid: University Staff is very helpful ',\n",
              "       'After Covid: University Staff is very helpful',\n",
              "       'Any Comments or Suggestions '],\n",
              "      dtype='object')"
            ]
          },
          "metadata": {
            "tags": []
          },
          "execution_count": 72
        }
      ]
    },
    {
      "cell_type": "code",
      "metadata": {
        "id": "WxUUx3ZJIwxM"
      },
      "source": [
        "# remove not usable columns from dataset\n",
        "df.drop(columns={'Timestamp'}, inplace=True)\n",
        "df.drop(columns={'Your cumulative average (GPA)'}, inplace=True)\n",
        "df.drop(columns={'UMT Student ID'}, inplace=True)\n",
        "df.drop(columns={'Age'}, inplace=True)\n",
        "df.drop(columns={'Any Comments or Suggestions '}, inplace=True)"
      ],
      "execution_count": null,
      "outputs": []
    },
    {
      "cell_type": "code",
      "metadata": {
        "id": "Q-Qz2JuUIwxM"
      },
      "source": [
        "# rename columns for understandable with minimum length of strings\n",
        "df.rename(columns={\n",
        "    'Education Level/Year':'Study_Level',\n",
        "    'Before COVID-19: Which of the following digital tool do you usually use?':'Before_tools',\n",
        "    'After COVID-19: Which of the following digital tool do you usually use?':'After_tools',\n",
        "    'Before COVID-19: How much time do you spend using digital tools in learning?':'Before_tools_timing',\n",
        "    'After COVID-19: How much time do you spend using the digital tools in learning?':'After_tools_timing',\n",
        "    'Before COVID-19: I always use digital tools (mobile, laptop, i-pad) in studying.':'Before_tools_feedback',\n",
        "    'After COVID-19: I always use digital tools (mobile, laptop, i-pad) in studying.':'After_tools_feedback',\n",
        "    'Before COVID-19: When I use the mobile phone, tablet, or laptop in e-learning, I cannot concentrate and I am distracted.':'Before_distraction_feedback',\n",
        "    'After COVID-19: When I use the mobile phone, tablet, or laptop in e-learning, I cannot concentrate and I am distracted.':'After_distraction_feedback',\n",
        "    'Before COVID-19: I have fixed hours for bedtime and wake-up.':'Before_sleeping_Time_feedback',\n",
        "    'After COVID-19: I have fixed hours for bedtime and wake-up. ':'After_sleeping_Time_feedback',\n",
        "    'Before COVID-19: Prolonged use of digital tools for learning (mobile, laptop, i-pad) affected my sleeping habits.':'Before_sleeping_habits_affected_by_tools_feedback',\n",
        "    'After COVID-19: Prolonged use of digital tools for learning (mobile, laptop, i-pad) affected my sleeping habits.':'After_sleeping_habits_affected_by_tools_feedback',\n",
        "    'Before COVID-19: Continuous exposure to electronic screens in online learning is tiring and exhausting':'Before_electronic_screens_exhausting_feedback',\n",
        "    'After COVID-19: Continuous exposure to electronic screens in online learning is tiring and exhausting.':'After_electronic_screens_exhausting_feedback',\n",
        "    'The distance learning system, caused by the COVID-19 epidemic, resulted in social distancing.':'Social_distancing_feedback',\n",
        "    'Prolonged use of digital tools (mobile, laptop, i-pad) causes students’ isolation':'Students_isolation_feedback',\n",
        "    'University learning contributes to strengthening the social personality of students.':'Students_social_personality_feedback',\n",
        "    'Staying home for long periods of time leads to lethargy and laziness.':'Staying_home_feedback',\n",
        "    'Prolonged use of e-learning tools often leads to boredom, nervousness, and tension.':'E_learning_tools_tension_feedback',\n",
        "    'The psychological element is a key factor in the success of the educational process.':'Psychological_effect_for_education_feedback',\n",
        "    'Some students cannot afford to buy all the necessary digital tools, which is embarrassing and frustrating.':'Not_available_digital_tools_frustrating_feedback',\n",
        "    'I don’t recommend continuing with the online learning model because it is socially and psychologically unhealthy.':'Online_learning_not_good_feedback',\n",
        "    'Measures of lockdown, closures, and quarantine, brought by COVID-19 caused stress, frustration, and depression.':'Depression_of_quarantine_feedback',\n",
        "    'The use of digital learning tools is responsible for my low academic performance.':'Study_affected_by_digital_tools',\n",
        "    'The volume of assignments via e-learning led to confusion, frustration, and poor performance. ':'Poor_performance_by_e-learning',\n",
        "    'Face-to-face interaction contributes significantly to boosting students’ academic achievement.':'Face-to-face_interaction_for_academic_performance',\n",
        "    'Taking quizzes and exams online from home was not comfortable and made me nervous.':'Negative_performance_for_online_Exams',\n",
        "    'Before Covid: University Staff is very helpful ':'Before_Staff_helpful',\n",
        "    'After Covid: University Staff is very helpful':'After_Staff_helpful',\n",
        "}, inplace=True)"
      ],
      "execution_count": null,
      "outputs": []
    },
    {
      "cell_type": "code",
      "metadata": {
        "colab": {
          "base_uri": "https://localhost:8080/",
          "height": 267
        },
        "id": "davTl4N8IwxO",
        "outputId": "ba345433-6e56-4d07-d406-acd04efcdcdf"
      },
      "source": [
        "df.head()"
      ],
      "execution_count": null,
      "outputs": [
        {
          "output_type": "execute_result",
          "data": {
            "text/html": [
              "<div>\n",
              "<style scoped>\n",
              "    .dataframe tbody tr th:only-of-type {\n",
              "        vertical-align: middle;\n",
              "    }\n",
              "\n",
              "    .dataframe tbody tr th {\n",
              "        vertical-align: top;\n",
              "    }\n",
              "\n",
              "    .dataframe thead th {\n",
              "        text-align: right;\n",
              "    }\n",
              "</style>\n",
              "<table border=\"1\" class=\"dataframe\">\n",
              "  <thead>\n",
              "    <tr style=\"text-align: right;\">\n",
              "      <th></th>\n",
              "      <th>Gender</th>\n",
              "      <th>Study_Level</th>\n",
              "      <th>Before_tools</th>\n",
              "      <th>After_tools</th>\n",
              "      <th>Before_tools_timing</th>\n",
              "      <th>After_tools_timing</th>\n",
              "      <th>Before_tools_feedback</th>\n",
              "      <th>After_tools_feedback</th>\n",
              "      <th>Before_distraction_feedback</th>\n",
              "      <th>After_distraction_feedback</th>\n",
              "      <th>Before_sleeping_Time_feedback</th>\n",
              "      <th>After_sleeping_Time_feedback</th>\n",
              "      <th>Before_sleeping_habits_affected_by_tools_feedback</th>\n",
              "      <th>After_sleeping_habits_affected_by_tools_feedback</th>\n",
              "      <th>Before_electronic_screens_exhausting_feedback</th>\n",
              "      <th>After_electronic_screens_exhausting_feedback</th>\n",
              "      <th>Social_distancing_feedback</th>\n",
              "      <th>Students_isolation_feedback</th>\n",
              "      <th>Students_social_personality_feedback</th>\n",
              "      <th>Staying_home_feedback</th>\n",
              "      <th>E_learning_tools_tension_feedback</th>\n",
              "      <th>Psychological_effect_for_education_feedback</th>\n",
              "      <th>Not_available_digital_tools_frustrating_feedback</th>\n",
              "      <th>Online_learning_not_good_feedback</th>\n",
              "      <th>Depression_of_quarantine_feedback</th>\n",
              "      <th>Study_affected_by_digital_tools</th>\n",
              "      <th>Poor_performance_by_e-learning</th>\n",
              "      <th>Face-to-face_interaction_for_academic_performance</th>\n",
              "      <th>Negative_performance_for_online_Exams</th>\n",
              "      <th>Before_Staff_helpful</th>\n",
              "      <th>After_Staff_helpful</th>\n",
              "    </tr>\n",
              "  </thead>\n",
              "  <tbody>\n",
              "    <tr>\n",
              "      <th>0</th>\n",
              "      <td>Male</td>\n",
              "      <td>Bachelor- Final year</td>\n",
              "      <td>Mobile Phone</td>\n",
              "      <td>Laptop</td>\n",
              "      <td>3-6</td>\n",
              "      <td>1-3</td>\n",
              "      <td>Agree</td>\n",
              "      <td>Agree</td>\n",
              "      <td>Strongly disagree</td>\n",
              "      <td>Agree</td>\n",
              "      <td>Agree</td>\n",
              "      <td>strongly agree</td>\n",
              "      <td>Strongly disagree</td>\n",
              "      <td>Agree</td>\n",
              "      <td>Strongly agree</td>\n",
              "      <td>Agree</td>\n",
              "      <td>strongly agree</td>\n",
              "      <td>Agree</td>\n",
              "      <td>Disagree</td>\n",
              "      <td>Agree</td>\n",
              "      <td>Strongly disagree</td>\n",
              "      <td>Agree</td>\n",
              "      <td>Disagree</td>\n",
              "      <td>Agree</td>\n",
              "      <td>strongly agree</td>\n",
              "      <td>Strongly disagree</td>\n",
              "      <td>Agree</td>\n",
              "      <td>Agree</td>\n",
              "      <td>Disagree</td>\n",
              "      <td>Agree</td>\n",
              "      <td>Agree</td>\n",
              "    </tr>\n",
              "    <tr>\n",
              "      <th>1</th>\n",
              "      <td>Female</td>\n",
              "      <td>Masters</td>\n",
              "      <td>Laptop</td>\n",
              "      <td>Laptop</td>\n",
              "      <td>1-3</td>\n",
              "      <td>9-12</td>\n",
              "      <td>Strongly disagree</td>\n",
              "      <td>Strongly agree</td>\n",
              "      <td>Neutral</td>\n",
              "      <td>Neutral</td>\n",
              "      <td>Strongly agree</td>\n",
              "      <td>NaN</td>\n",
              "      <td>Strongly disagree</td>\n",
              "      <td>Strongly agree</td>\n",
              "      <td>Disagree</td>\n",
              "      <td>strongly agree</td>\n",
              "      <td>Agree</td>\n",
              "      <td>Agree</td>\n",
              "      <td>Agree</td>\n",
              "      <td>Agree</td>\n",
              "      <td>Agree</td>\n",
              "      <td>Neutral</td>\n",
              "      <td>Neutral</td>\n",
              "      <td>strongly agree</td>\n",
              "      <td>strongly agree</td>\n",
              "      <td>Strongly agree</td>\n",
              "      <td>Neutral</td>\n",
              "      <td>strongly agree</td>\n",
              "      <td>Neutral</td>\n",
              "      <td>Strongly agree</td>\n",
              "      <td>Neutral</td>\n",
              "    </tr>\n",
              "    <tr>\n",
              "      <th>2</th>\n",
              "      <td>Male</td>\n",
              "      <td>Masters</td>\n",
              "      <td>Mobile Phone</td>\n",
              "      <td>Laptop</td>\n",
              "      <td>1-3</td>\n",
              "      <td>1-3</td>\n",
              "      <td>Disagree</td>\n",
              "      <td>Agree</td>\n",
              "      <td>Disagree</td>\n",
              "      <td>Agree</td>\n",
              "      <td>Disgree</td>\n",
              "      <td>Disgree</td>\n",
              "      <td>Strongly disagree</td>\n",
              "      <td>Strongly disagree</td>\n",
              "      <td>Disagree</td>\n",
              "      <td>Agree</td>\n",
              "      <td>Agree</td>\n",
              "      <td>Agree</td>\n",
              "      <td>Disagree</td>\n",
              "      <td>Agree</td>\n",
              "      <td>Agree</td>\n",
              "      <td>Agree</td>\n",
              "      <td>Agree</td>\n",
              "      <td>Agree</td>\n",
              "      <td>Agree</td>\n",
              "      <td>Agree</td>\n",
              "      <td>Agree</td>\n",
              "      <td>Agree</td>\n",
              "      <td>Agree</td>\n",
              "      <td>Agree</td>\n",
              "      <td>Disagree</td>\n",
              "    </tr>\n",
              "    <tr>\n",
              "      <th>3</th>\n",
              "      <td>Male</td>\n",
              "      <td>Masters</td>\n",
              "      <td>Laptop</td>\n",
              "      <td>Laptop</td>\n",
              "      <td>6-9</td>\n",
              "      <td>6-9</td>\n",
              "      <td>Strongly agree</td>\n",
              "      <td>Strongly agree</td>\n",
              "      <td>Strongly disagree</td>\n",
              "      <td>Strongly disagree</td>\n",
              "      <td>Strongly disagree</td>\n",
              "      <td>Strongly disagree</td>\n",
              "      <td>Strongly disagree</td>\n",
              "      <td>Strongly disagree</td>\n",
              "      <td>Strongly disagree</td>\n",
              "      <td>Strongly disagree</td>\n",
              "      <td>Strongly agree</td>\n",
              "      <td>Strongly disagree</td>\n",
              "      <td>Strongly disagree</td>\n",
              "      <td>strongly disagree</td>\n",
              "      <td>Agree</td>\n",
              "      <td>Agree</td>\n",
              "      <td>Strongly disagree</td>\n",
              "      <td>Neutral</td>\n",
              "      <td>Strongly disagree</td>\n",
              "      <td>Strongly disagree</td>\n",
              "      <td>Disagree</td>\n",
              "      <td>Disagree</td>\n",
              "      <td>Disagree</td>\n",
              "      <td>Disagree</td>\n",
              "      <td>Agree</td>\n",
              "    </tr>\n",
              "    <tr>\n",
              "      <th>4</th>\n",
              "      <td>Female</td>\n",
              "      <td>Bachelor - Third year</td>\n",
              "      <td>Mobile Phone</td>\n",
              "      <td>Laptop</td>\n",
              "      <td>6-9</td>\n",
              "      <td>+12</td>\n",
              "      <td>Strongly agree</td>\n",
              "      <td>Strongly agree</td>\n",
              "      <td>Disagree</td>\n",
              "      <td>Strongly Agree</td>\n",
              "      <td>Strongly agree</td>\n",
              "      <td>Disgree</td>\n",
              "      <td>Neutral</td>\n",
              "      <td>Strongly agree</td>\n",
              "      <td>Strongly agree</td>\n",
              "      <td>Agree</td>\n",
              "      <td>Agree</td>\n",
              "      <td>Agree</td>\n",
              "      <td>Agree</td>\n",
              "      <td>Strongly agree</td>\n",
              "      <td>Agree</td>\n",
              "      <td>Agree</td>\n",
              "      <td>Strongly agree</td>\n",
              "      <td>Strongly agree</td>\n",
              "      <td>Agree</td>\n",
              "      <td>Agree</td>\n",
              "      <td>Agree</td>\n",
              "      <td>Agree</td>\n",
              "      <td>Agree</td>\n",
              "      <td>Agree</td>\n",
              "      <td>Neutral</td>\n",
              "    </tr>\n",
              "  </tbody>\n",
              "</table>\n",
              "</div>"
            ],
            "text/plain": [
              "   Gender            Study_Level  ... Before_Staff_helpful After_Staff_helpful\n",
              "0    Male   Bachelor- Final year  ...                Agree               Agree\n",
              "1  Female                Masters  ...       Strongly agree             Neutral\n",
              "2    Male                Masters  ...                Agree            Disagree\n",
              "3    Male                Masters  ...             Disagree               Agree\n",
              "4  Female  Bachelor - Third year  ...                Agree             Neutral\n",
              "\n",
              "[5 rows x 31 columns]"
            ]
          },
          "metadata": {
            "tags": []
          },
          "execution_count": 75
        }
      ]
    },
    {
      "cell_type": "code",
      "metadata": {
        "scrolled": true,
        "colab": {
          "base_uri": "https://localhost:8080/",
          "height": 221
        },
        "id": "e_uxegZYIwxP",
        "outputId": "5b1839a6-1aec-4809-e56f-26b54c8d0991"
      },
      "source": [
        "#Data description\n",
        "df.describe()"
      ],
      "execution_count": null,
      "outputs": [
        {
          "output_type": "execute_result",
          "data": {
            "text/html": [
              "<div>\n",
              "<style scoped>\n",
              "    .dataframe tbody tr th:only-of-type {\n",
              "        vertical-align: middle;\n",
              "    }\n",
              "\n",
              "    .dataframe tbody tr th {\n",
              "        vertical-align: top;\n",
              "    }\n",
              "\n",
              "    .dataframe thead th {\n",
              "        text-align: right;\n",
              "    }\n",
              "</style>\n",
              "<table border=\"1\" class=\"dataframe\">\n",
              "  <thead>\n",
              "    <tr style=\"text-align: right;\">\n",
              "      <th></th>\n",
              "      <th>Gender</th>\n",
              "      <th>Study_Level</th>\n",
              "      <th>Before_tools</th>\n",
              "      <th>After_tools</th>\n",
              "      <th>Before_tools_timing</th>\n",
              "      <th>After_tools_timing</th>\n",
              "      <th>Before_tools_feedback</th>\n",
              "      <th>After_tools_feedback</th>\n",
              "      <th>Before_distraction_feedback</th>\n",
              "      <th>After_distraction_feedback</th>\n",
              "      <th>Before_sleeping_Time_feedback</th>\n",
              "      <th>After_sleeping_Time_feedback</th>\n",
              "      <th>Before_sleeping_habits_affected_by_tools_feedback</th>\n",
              "      <th>After_sleeping_habits_affected_by_tools_feedback</th>\n",
              "      <th>Before_electronic_screens_exhausting_feedback</th>\n",
              "      <th>After_electronic_screens_exhausting_feedback</th>\n",
              "      <th>Social_distancing_feedback</th>\n",
              "      <th>Students_isolation_feedback</th>\n",
              "      <th>Students_social_personality_feedback</th>\n",
              "      <th>Staying_home_feedback</th>\n",
              "      <th>E_learning_tools_tension_feedback</th>\n",
              "      <th>Psychological_effect_for_education_feedback</th>\n",
              "      <th>Not_available_digital_tools_frustrating_feedback</th>\n",
              "      <th>Online_learning_not_good_feedback</th>\n",
              "      <th>Depression_of_quarantine_feedback</th>\n",
              "      <th>Study_affected_by_digital_tools</th>\n",
              "      <th>Poor_performance_by_e-learning</th>\n",
              "      <th>Face-to-face_interaction_for_academic_performance</th>\n",
              "      <th>Negative_performance_for_online_Exams</th>\n",
              "      <th>Before_Staff_helpful</th>\n",
              "      <th>After_Staff_helpful</th>\n",
              "    </tr>\n",
              "  </thead>\n",
              "  <tbody>\n",
              "    <tr>\n",
              "      <th>count</th>\n",
              "      <td>731</td>\n",
              "      <td>731</td>\n",
              "      <td>731</td>\n",
              "      <td>731</td>\n",
              "      <td>731</td>\n",
              "      <td>731</td>\n",
              "      <td>731</td>\n",
              "      <td>731</td>\n",
              "      <td>731</td>\n",
              "      <td>731</td>\n",
              "      <td>731</td>\n",
              "      <td>730</td>\n",
              "      <td>731</td>\n",
              "      <td>731</td>\n",
              "      <td>731</td>\n",
              "      <td>731</td>\n",
              "      <td>731</td>\n",
              "      <td>731</td>\n",
              "      <td>731</td>\n",
              "      <td>731</td>\n",
              "      <td>731</td>\n",
              "      <td>731</td>\n",
              "      <td>731</td>\n",
              "      <td>731</td>\n",
              "      <td>731</td>\n",
              "      <td>731</td>\n",
              "      <td>731</td>\n",
              "      <td>731</td>\n",
              "      <td>731</td>\n",
              "      <td>731</td>\n",
              "      <td>731</td>\n",
              "    </tr>\n",
              "    <tr>\n",
              "      <th>unique</th>\n",
              "      <td>2</td>\n",
              "      <td>6</td>\n",
              "      <td>5</td>\n",
              "      <td>5</td>\n",
              "      <td>5</td>\n",
              "      <td>5</td>\n",
              "      <td>5</td>\n",
              "      <td>5</td>\n",
              "      <td>5</td>\n",
              "      <td>5</td>\n",
              "      <td>5</td>\n",
              "      <td>6</td>\n",
              "      <td>5</td>\n",
              "      <td>5</td>\n",
              "      <td>5</td>\n",
              "      <td>6</td>\n",
              "      <td>6</td>\n",
              "      <td>5</td>\n",
              "      <td>5</td>\n",
              "      <td>5</td>\n",
              "      <td>5</td>\n",
              "      <td>5</td>\n",
              "      <td>5</td>\n",
              "      <td>6</td>\n",
              "      <td>6</td>\n",
              "      <td>5</td>\n",
              "      <td>5</td>\n",
              "      <td>6</td>\n",
              "      <td>5</td>\n",
              "      <td>5</td>\n",
              "      <td>5</td>\n",
              "    </tr>\n",
              "    <tr>\n",
              "      <th>top</th>\n",
              "      <td>Male</td>\n",
              "      <td>Bachelor- Final year</td>\n",
              "      <td>Laptop</td>\n",
              "      <td>Laptop</td>\n",
              "      <td>3-6</td>\n",
              "      <td>6-9</td>\n",
              "      <td>Agree</td>\n",
              "      <td>Strongly agree</td>\n",
              "      <td>Agree</td>\n",
              "      <td>Agree</td>\n",
              "      <td>Agree</td>\n",
              "      <td>Neutral</td>\n",
              "      <td>Agree</td>\n",
              "      <td>Strongly agree</td>\n",
              "      <td>Agree</td>\n",
              "      <td>Agree</td>\n",
              "      <td>Agree</td>\n",
              "      <td>Agree</td>\n",
              "      <td>Strongly agree</td>\n",
              "      <td>Agree</td>\n",
              "      <td>Agree</td>\n",
              "      <td>Agree</td>\n",
              "      <td>Agree</td>\n",
              "      <td>Agree</td>\n",
              "      <td>Agree</td>\n",
              "      <td>Agree</td>\n",
              "      <td>Strongly agree</td>\n",
              "      <td>Agree</td>\n",
              "      <td>Agree</td>\n",
              "      <td>Agree</td>\n",
              "      <td>Agree</td>\n",
              "    </tr>\n",
              "    <tr>\n",
              "      <th>freq</th>\n",
              "      <td>503</td>\n",
              "      <td>340</td>\n",
              "      <td>469</td>\n",
              "      <td>516</td>\n",
              "      <td>467</td>\n",
              "      <td>470</td>\n",
              "      <td>513</td>\n",
              "      <td>476</td>\n",
              "      <td>400</td>\n",
              "      <td>392</td>\n",
              "      <td>386</td>\n",
              "      <td>186</td>\n",
              "      <td>406</td>\n",
              "      <td>368</td>\n",
              "      <td>401</td>\n",
              "      <td>395</td>\n",
              "      <td>377</td>\n",
              "      <td>516</td>\n",
              "      <td>360</td>\n",
              "      <td>345</td>\n",
              "      <td>478</td>\n",
              "      <td>346</td>\n",
              "      <td>361</td>\n",
              "      <td>404</td>\n",
              "      <td>387</td>\n",
              "      <td>456</td>\n",
              "      <td>362</td>\n",
              "      <td>395</td>\n",
              "      <td>386</td>\n",
              "      <td>379</td>\n",
              "      <td>283</td>\n",
              "    </tr>\n",
              "  </tbody>\n",
              "</table>\n",
              "</div>"
            ],
            "text/plain": [
              "       Gender           Study_Level  ... Before_Staff_helpful After_Staff_helpful\n",
              "count     731                   731  ...                  731                 731\n",
              "unique      2                     6  ...                    5                   5\n",
              "top      Male  Bachelor- Final year  ...                Agree               Agree\n",
              "freq      503                   340  ...                  379                 283\n",
              "\n",
              "[4 rows x 31 columns]"
            ]
          },
          "metadata": {
            "tags": []
          },
          "execution_count": 76
        }
      ]
    },
    {
      "cell_type": "markdown",
      "metadata": {
        "id": "f4ew1XvIIwxQ"
      },
      "source": [
        "**Changing string data in survey into integers**\n",
        "\n",
        "<pre>'Strongle Agree'=5\n",
        "'Agree'=4\n",
        "'Uncertain'=3\n",
        "'Disagree'=2\n",
        "'Strongly Disagree'=1\n",
        "<pre>"
      ]
    },
    {
      "cell_type": "code",
      "metadata": {
        "colab": {
          "base_uri": "https://localhost:8080/"
        },
        "id": "ej4Z8rxuIwxQ",
        "outputId": "fbf1f15c-cf29-44de-83e8-8b992b8bb4d1"
      },
      "source": [
        "#get unique values of column\n",
        "df.After_sleeping_Time_feedback.unique()"
      ],
      "execution_count": null,
      "outputs": [
        {
          "output_type": "execute_result",
          "data": {
            "text/plain": [
              "array(['strongly agree', nan, 'Disgree', 'Strongly disagree', 'Neutral',\n",
              "       'Agree', 'Strongly agree'], dtype=object)"
            ]
          },
          "metadata": {
            "tags": []
          },
          "execution_count": 77
        }
      ]
    },
    {
      "cell_type": "code",
      "metadata": {
        "id": "0GrQnlP4IwxR"
      },
      "source": [
        "#Replacing catogorical values with integers\n",
        "\n",
        "df.replace(to_replace='Strongly agree', value=5, inplace=True)\n",
        "df.replace(to_replace='Strongly Agree', value=5, inplace=True)\n",
        "df.replace(to_replace='strongly agree', value=5, inplace=True)\n",
        "df.replace(to_replace='Agree', value=4, inplace=True)\n",
        "\n",
        "df.replace(to_replace='Neutral', value=3, inplace=True)\n",
        "\n",
        "df.replace(to_replace='Disagree', value=2, inplace=True)\n",
        "df.replace(to_replace='Disgree', value=2, inplace=True)\n",
        "df.replace(to_replace='Strongly disagree', value=1, inplace=True)\n",
        "df.replace(to_replace='Strongly Disagree', value=1, inplace=True)\n",
        "df.replace(to_replace='strongly disagree', value=1, inplace=True)"
      ],
      "execution_count": null,
      "outputs": []
    },
    {
      "cell_type": "code",
      "metadata": {
        "scrolled": false,
        "colab": {
          "base_uri": "https://localhost:8080/"
        },
        "id": "lAJBMkukIwxS",
        "outputId": "d092fc77-ffd7-4cae-f260-c091a157fcc2"
      },
      "source": [
        "#Finding null values in data \n",
        "\n",
        "df.iloc[:, 1:-1].isna().sum()"
      ],
      "execution_count": null,
      "outputs": [
        {
          "output_type": "execute_result",
          "data": {
            "text/plain": [
              "Study_Level                                          0\n",
              "Before_tools                                         0\n",
              "After_tools                                          0\n",
              "Before_tools_timing                                  0\n",
              "After_tools_timing                                   0\n",
              "Before_tools_feedback                                0\n",
              "After_tools_feedback                                 0\n",
              "Before_distraction_feedback                          0\n",
              "After_distraction_feedback                           0\n",
              "Before_sleeping_Time_feedback                        0\n",
              "After_sleeping_Time_feedback                         1\n",
              "Before_sleeping_habits_affected_by_tools_feedback    0\n",
              "After_sleeping_habits_affected_by_tools_feedback     0\n",
              "Before_electronic_screens_exhausting_feedback        0\n",
              "After_electronic_screens_exhausting_feedback         0\n",
              "Social_distancing_feedback                           0\n",
              "Students_isolation_feedback                          0\n",
              "Students_social_personality_feedback                 0\n",
              "Staying_home_feedback                                0\n",
              "E_learning_tools_tension_feedback                    0\n",
              "Psychological_effect_for_education_feedback          0\n",
              "Not_available_digital_tools_frustrating_feedback     0\n",
              "Online_learning_not_good_feedback                    0\n",
              "Depression_of_quarantine_feedback                    0\n",
              "Study_affected_by_digital_tools                      0\n",
              "Poor_performance_by_e-learning                       0\n",
              "Face-to-face_interaction_for_academic_performance    0\n",
              "Negative_performance_for_online_Exams                0\n",
              "Before_Staff_helpful                                 0\n",
              "dtype: int64"
            ]
          },
          "metadata": {
            "tags": []
          },
          "execution_count": 79
        }
      ]
    },
    {
      "cell_type": "code",
      "metadata": {
        "colab": {
          "base_uri": "https://localhost:8080/"
        },
        "id": "tbC9VFANIwxS",
        "outputId": "fc8c10f5-efd2-4a10-ef96-25675509a331"
      },
      "source": [
        "#we have only one null value\n",
        "#replacing it with mode of column because of catagorical values\n",
        "\n",
        "df['After_sleeping_Time_feedback'].fillna(df['After_sleeping_Time_feedback'].mode()[0], inplace=True)\n",
        "df['After_sleeping_Time_feedback'].isna().sum()"
      ],
      "execution_count": null,
      "outputs": [
        {
          "output_type": "execute_result",
          "data": {
            "text/plain": [
              "0"
            ]
          },
          "metadata": {
            "tags": []
          },
          "execution_count": 80
        }
      ]
    },
    {
      "cell_type": "code",
      "metadata": {
        "colab": {
          "base_uri": "https://localhost:8080/"
        },
        "id": "OKkuDLrFIwxU",
        "outputId": "d47a58bd-31b5-4714-d74e-2b64a0b8f9a7"
      },
      "source": [
        "df.iloc[:,1:-1].isna().sum()"
      ],
      "execution_count": null,
      "outputs": [
        {
          "output_type": "execute_result",
          "data": {
            "text/plain": [
              "Study_Level                                          0\n",
              "Before_tools                                         0\n",
              "After_tools                                          0\n",
              "Before_tools_timing                                  0\n",
              "After_tools_timing                                   0\n",
              "Before_tools_feedback                                0\n",
              "After_tools_feedback                                 0\n",
              "Before_distraction_feedback                          0\n",
              "After_distraction_feedback                           0\n",
              "Before_sleeping_Time_feedback                        0\n",
              "After_sleeping_Time_feedback                         0\n",
              "Before_sleeping_habits_affected_by_tools_feedback    0\n",
              "After_sleeping_habits_affected_by_tools_feedback     0\n",
              "Before_electronic_screens_exhausting_feedback        0\n",
              "After_electronic_screens_exhausting_feedback         0\n",
              "Social_distancing_feedback                           0\n",
              "Students_isolation_feedback                          0\n",
              "Students_social_personality_feedback                 0\n",
              "Staying_home_feedback                                0\n",
              "E_learning_tools_tension_feedback                    0\n",
              "Psychological_effect_for_education_feedback          0\n",
              "Not_available_digital_tools_frustrating_feedback     0\n",
              "Online_learning_not_good_feedback                    0\n",
              "Depression_of_quarantine_feedback                    0\n",
              "Study_affected_by_digital_tools                      0\n",
              "Poor_performance_by_e-learning                       0\n",
              "Face-to-face_interaction_for_academic_performance    0\n",
              "Negative_performance_for_online_Exams                0\n",
              "Before_Staff_helpful                                 0\n",
              "dtype: int64"
            ]
          },
          "metadata": {
            "tags": []
          },
          "execution_count": 81
        }
      ]
    },
    {
      "cell_type": "code",
      "metadata": {
        "scrolled": true,
        "colab": {
          "base_uri": "https://localhost:8080/"
        },
        "id": "XAs6xHJVIwxU",
        "outputId": "1441e4c0-dbc4-4078-c2e4-decafac1b114"
      },
      "source": [
        "#verifying catogorical values, after converting them into integers\n",
        "df.Staying_home_feedback.unique()"
      ],
      "execution_count": null,
      "outputs": [
        {
          "output_type": "execute_result",
          "data": {
            "text/plain": [
              "array([4, 1, 5, 3, 2])"
            ]
          },
          "metadata": {
            "tags": []
          },
          "execution_count": 82
        }
      ]
    },
    {
      "cell_type": "code",
      "metadata": {
        "scrolled": false,
        "colab": {
          "base_uri": "https://localhost:8080/",
          "height": 407
        },
        "id": "4kZ_ISbsIwxV",
        "outputId": "060fe684-2baa-47f9-d0e3-7c1eca1bc476"
      },
      "source": [
        "# students staying home feedback\n",
        "df['Staying_home_feedback'].plot(\n",
        "    kind='hist',\n",
        "    figsize=(10,6),\n",
        "    bins=5,\n",
        "    color='blue',\n",
        "    alpha=0.6\n",
        ")\n",
        "plt.title('Students feedback about staying home')\n",
        "plt.xlabel('Feedback')\n",
        "plt.ylabel('total number of feedbacks')\n",
        "plt.show()"
      ],
      "execution_count": null,
      "outputs": [
        {
          "output_type": "display_data",
          "data": {
            "image/png": "[encoded data removed]",
            "text/plain": [
              "<Figure size 720x432 with 1 Axes>"
            ]
          },
          "metadata": {
            "tags": []
          }
        }
      ]
    },
    {
      "cell_type": "code",
      "metadata": {
        "id": "q883T8zfIwxW"
      },
      "source": [
        "# seprate male and female staying_home_feedback and get sum of values\n",
        "male_staying_home_feedback = df.loc[df['Gender']=='Male',['Staying_home_feedback']]\n",
        "male_staying_home_feedback = male_staying_home_feedback['Staying_home_feedback'].value_counts(sort=True, ascending=True)\n",
        "\n",
        "female_staying_home_feedback = df.loc[df['Gender']=='Female',['Staying_home_feedback']]\n",
        "female_staying_home_feedback = female_staying_home_feedback['Staying_home_feedback'].value_counts(sort=True, ascending=True)\n",
        "\n",
        "staying_home_feedback = pd.DataFrame({'female':female_staying_home_feedback,'male':male_staying_home_feedback})\n"
      ],
      "execution_count": null,
      "outputs": []
    },
    {
      "cell_type": "code",
      "metadata": {
        "colab": {
          "base_uri": "https://localhost:8080/",
          "height": 197
        },
        "id": "dUhjfHZVIwxX",
        "outputId": "15d8b8e2-4f84-4c18-aab9-e87f79a46c60"
      },
      "source": [
        "staying_home_feedback"
      ],
      "execution_count": null,
      "outputs": [
        {
          "output_type": "execute_result",
          "data": {
            "text/html": [
              "<div>\n",
              "<style scoped>\n",
              "    .dataframe tbody tr th:only-of-type {\n",
              "        vertical-align: middle;\n",
              "    }\n",
              "\n",
              "    .dataframe tbody tr th {\n",
              "        vertical-align: top;\n",
              "    }\n",
              "\n",
              "    .dataframe thead th {\n",
              "        text-align: right;\n",
              "    }\n",
              "</style>\n",
              "<table border=\"1\" class=\"dataframe\">\n",
              "  <thead>\n",
              "    <tr style=\"text-align: right;\">\n",
              "      <th></th>\n",
              "      <th>female</th>\n",
              "      <th>male</th>\n",
              "    </tr>\n",
              "  </thead>\n",
              "  <tbody>\n",
              "    <tr>\n",
              "      <th>1</th>\n",
              "      <td>4</td>\n",
              "      <td>10</td>\n",
              "    </tr>\n",
              "    <tr>\n",
              "      <th>2</th>\n",
              "      <td>4</td>\n",
              "      <td>5</td>\n",
              "    </tr>\n",
              "    <tr>\n",
              "      <th>3</th>\n",
              "      <td>12</td>\n",
              "      <td>26</td>\n",
              "    </tr>\n",
              "    <tr>\n",
              "      <th>4</th>\n",
              "      <td>98</td>\n",
              "      <td>247</td>\n",
              "    </tr>\n",
              "    <tr>\n",
              "      <th>5</th>\n",
              "      <td>110</td>\n",
              "      <td>215</td>\n",
              "    </tr>\n",
              "  </tbody>\n",
              "</table>\n",
              "</div>"
            ],
            "text/plain": [
              "   female  male\n",
              "1       4    10\n",
              "2       4     5\n",
              "3      12    26\n",
              "4      98   247\n",
              "5     110   215"
            ]
          },
          "metadata": {
            "tags": []
          },
          "execution_count": 85
        }
      ]
    },
    {
      "cell_type": "code",
      "metadata": {
        "colab": {
          "base_uri": "https://localhost:8080/",
          "height": 407
        },
        "id": "oWQeNOZjIwxY",
        "outputId": "2f3df93e-251c-4095-c839-974a46303e44"
      },
      "source": [
        "staying_home_feedback.plot(kind='area', figsize=(10, 6), stacked=False, alpha=0.7)\n",
        "plt.title('Students staying home study feedback by male and female')\n",
        "plt.xlabel('Feedback')\n",
        "plt.ylabel('total number of feedbacks')\n",
        "plt.show()"
      ],
      "execution_count": null,
      "outputs": [
        {
          "output_type": "display_data",
          "data": {
            "image/png": "[encoded data removed]",
            "text/plain": [
              "<Figure size 720x432 with 1 Axes>"
            ]
          },
          "metadata": {
            "tags": []
          }
        }
      ]
    },
    {
      "cell_type": "code",
      "metadata": {
        "colab": {
          "base_uri": "https://localhost:8080/",
          "height": 382
        },
        "id": "xJZ8ZVx9IwxZ",
        "outputId": "a079e73e-2acc-4e39-9e9b-9e2eaed4a4c5"
      },
      "source": [
        "# line chart of comparison sleeping habits of students before and after covid 19\n",
        "plt_fig = plt.figure()\n",
        "ax0 = plt_fig.add_subplot(1,2,1)\n",
        "ax1 = plt_fig.add_subplot(1,2,2)\n",
        "\n",
        "sleeping_habits = df['Before_sleeping_habits_affected_by_tools_feedback'].value_counts();\n",
        "sleeping_habits = sleeping_habits.sort_index()\n",
        "sleeping_habits.plot(kind='line',\n",
        "                     figsize=(20,6),\n",
        "                     color='blue',\n",
        "                     marker='o',\n",
        "                     ax=ax0\n",
        "                    )\n",
        "ax0.set_title('Sleeping habits affected before covid 19')\n",
        "ax0.set_xlabel('sleeping habits ratio')\n",
        "ax0.set_ylabel('sleeping habits count')\n",
        "\n",
        "after_sleeping_habits = df['After_sleeping_habits_affected_by_tools_feedback'].value_counts();\n",
        "after_sleeping_habits = after_sleeping_habits.sort_index()\n",
        "after_sleeping_habits.plot(kind='line',\n",
        "                           figsize=(20,6),\n",
        "                           color='red',\n",
        "                           marker='o',\n",
        "                           ax=ax1\n",
        "                          )\n",
        "ax1.set_title('Sleeping habits affected after covid 19')\n",
        "ax1.set_xlabel('sleeping habits ratio')\n",
        "ax1.set_ylabel('sleeping habits count')\n",
        "\n",
        "plt.show()"
      ],
      "execution_count": null,
      "outputs": [
        {
          "output_type": "display_data",
          "data": {
            "image/png": "[encoded data removed]",
            "text/plain": [
              "<Figure size 1440x432 with 2 Axes>"
            ]
          },
          "metadata": {
            "tags": []
          }
        }
      ]
    },
    {
      "cell_type": "code",
      "metadata": {
        "id": "KucqXxVWIlYV"
      },
      "source": [
        "# sort data with top 5 ratings\n",
        "df_feedbacks = pd.DataFrame()\n",
        "for i, column in enumerate(df.iloc[:,9:-1].columns):\n",
        "    df_feedbacks[column] = df[column].value_counts(sort=True, ascending=True);\n",
        "    \n",
        "df_feedbacks = df_feedbacks.sort_values(df_feedbacks.index[4], axis=1)"
      ],
      "execution_count": null,
      "outputs": []
    },
    {
      "cell_type": "code",
      "metadata": {
        "scrolled": false,
        "colab": {
          "base_uri": "https://localhost:8080/",
          "height": 404
        },
        "id": "TywiaJ5mIwxd",
        "outputId": "1f88c430-f19b-4ba4-9016-c39c8a0ed479"
      },
      "source": [
        "# bar plot of top 10 feedbacks of students\n",
        "top_10_feebacks = df_feedbacks.iloc[:,-10:]\n",
        "\n",
        "top_10_feebacks.plot(kind='bar', stacked=False, figsize=(10, 6), alpha=0.9)\n",
        "plt.title('Bar plot of top 10 students feedback rating')\n",
        "plt.xlabel('students feedback rating')\n",
        "plt.ylabel('Number of feedbacks')\n",
        "plt.show()"
      ],
      "execution_count": null,
      "outputs": [
        {
          "output_type": "display_data",
          "data": {
            "image/png": "[encoded data removed]",
            "text/plain": [
              "<Figure size 720x432 with 1 Axes>"
            ]
          },
          "metadata": {
            "tags": []
          }
        }
      ]
    },
    {
      "cell_type": "markdown",
      "metadata": {
        "id": "jLcvz5ptIwxn"
      },
      "source": [
        "# **1). Prediction of Students e-learning tools depression and tension**"
      ]
    },
    {
      "cell_type": "code",
      "metadata": {
        "id": "LDJG24uoJq9v"
      },
      "source": [
        "from sklearn.neighbors import KNeighborsClassifier\n",
        "from sklearn.model_selection import KFold, cross_val_score,cross_val_predict\n",
        "from sklearn.model_selection import RepeatedKFold\n",
        "from sklearn.naive_bayes import GaussianNB\n",
        "from sklearn.ensemble import RandomForestClassifier\n",
        "from sklearn.tree import DecisionTreeClassifier\n",
        "from sklearn.linear_model import LogisticRegression\n"
      ],
      "execution_count": null,
      "outputs": []
    },
    {
      "cell_type": "code",
      "metadata": {
        "id": "h79Ry4DPIwxo"
      },
      "source": [
        "\n",
        "X_model1 = df[['Students_isolation_feedback',\n",
        "               'Students_social_personality_feedback',\n",
        "               'Staying_home_feedback',\n",
        "               'Psychological_effect_for_education_feedback',\n",
        "               'Not_available_digital_tools_frustrating_feedback',\n",
        "               'Online_learning_not_good_feedback',\n",
        "               'Depression_of_quarantine_feedback',\n",
        "               'Study_affected_by_digital_tools']].values\n",
        "\n",
        "X_model1 = preprocessing.StandardScaler().fit(X_model1).transform(X_model1.astype(float))\n",
        "\n",
        "y_model1 = df['E_learning_tools_tension_feedback'].values"
      ],
      "execution_count": null,
      "outputs": []
    },
    {
      "cell_type": "code",
      "metadata": {
        "scrolled": true,
        "colab": {
          "base_uri": "https://localhost:8080/"
        },
        "id": "WUj9aTwnIwxo",
        "outputId": "9b4158ad-c878-4725-9077-bf35f78cb7fa"
      },
      "source": [
        "X1_train, X1_test, y1_train, y1_test = train_test_split(X_model1, y_model1, test_size=0.2)\n",
        "\n",
        "# train data using X_train and Y_train variable\n",
        "kf = KFold(n_splits=50, random_state=None, shuffle=True)\n",
        "\n",
        "kf.get_n_splits(X_model1)\n",
        "\n",
        "for train_index, test_index in kf.split(X_model1):\n",
        "    X1_train, X1_test = X_model1[train_index], X_model1[test_index]\n",
        "    y1_train, y1_test = y_model1[train_index], y_model1[test_index]\n",
        "\n",
        "knn_model = KNeighborsClassifier()\n",
        "scores = cross_val_score(knn_model, X1_train, y1_train, scoring='accuracy', cv=kf, n_jobs=-1)\n",
        "scores\n"
      ],
      "execution_count": null,
      "outputs": [
        {
          "output_type": "execute_result",
          "data": {
            "text/plain": [
              "array([0.86666667, 0.66666667, 0.73333333, 0.73333333, 0.66666667,\n",
              "       0.86666667, 0.86666667, 0.66666667, 0.93333333, 0.73333333,\n",
              "       0.66666667, 0.73333333, 0.53333333, 0.73333333, 0.6       ,\n",
              "       0.66666667, 0.66666667, 0.57142857, 0.78571429, 0.78571429,\n",
              "       0.78571429, 1.        , 0.64285714, 0.57142857, 0.78571429,\n",
              "       0.64285714, 0.5       , 0.5       , 0.78571429, 0.71428571,\n",
              "       0.71428571, 0.64285714, 0.57142857, 0.64285714, 0.78571429,\n",
              "       0.78571429, 0.42857143, 0.85714286, 0.85714286, 0.57142857,\n",
              "       0.57142857, 0.5       , 0.71428571, 0.85714286, 0.78571429,\n",
              "       0.78571429, 0.85714286, 0.71428571, 0.71428571, 0.85714286])"
            ]
          },
          "metadata": {
            "tags": []
          },
          "execution_count": 92
        }
      ]
    },
    {
      "cell_type": "code",
      "metadata": {
        "colab": {
          "base_uri": "https://localhost:8080/"
        },
        "id": "bNXsTeDEcx6U",
        "outputId": "86b31638-8258-4d15-cd72-94b1194042bf"
      },
      "source": [
        "#Model giving maximum accuracy #KNN #KFOLD\n",
        "scores.max()"
      ],
      "execution_count": null,
      "outputs": [
        {
          "output_type": "execute_result",
          "data": {
            "text/plain": [
              "1.0"
            ]
          },
          "metadata": {
            "tags": []
          },
          "execution_count": 93
        }
      ]
    },
    {
      "cell_type": "code",
      "metadata": {
        "id": "MfGW3j3JhzuL"
      },
      "source": [
        "from sklearn.metrics import confusion_matrix\n"
      ],
      "execution_count": null,
      "outputs": []
    },
    {
      "cell_type": "code",
      "metadata": {
        "id": "QDqg5vCPkMLJ"
      },
      "source": [
        "X1_train, X1_test, y1_train, y1_test = train_test_split(X_model1, y_model1, test_size=0.2)\n"
      ],
      "execution_count": null,
      "outputs": []
    },
    {
      "cell_type": "code",
      "metadata": {
        "colab": {
          "base_uri": "https://localhost:8080/"
        },
        "id": "efDl7blsXUNu",
        "outputId": "c7dd72eb-fcb4-4348-ec12-f5414d8b43e3"
      },
      "source": [
        "#simple KNN\n",
        "knn_ = KNeighborsClassifier(n_neighbors=50)\n",
        "knn_.fit(X1_train, y1_train)\n",
        "score = knn_.score(X1_test, y1_test)\n",
        "score"
      ],
      "execution_count": null,
      "outputs": [
        {
          "output_type": "execute_result",
          "data": {
            "text/plain": [
              "0.6870748299319728"
            ]
          },
          "metadata": {
            "tags": []
          },
          "execution_count": 96
        }
      ]
    },
    {
      "cell_type": "code",
      "metadata": {
        "colab": {
          "base_uri": "https://localhost:8080/"
        },
        "id": "XsV0-qxJjFUQ",
        "outputId": "8253631d-407b-487e-d8e9-8966a630d88b"
      },
      "source": [
        "y_pred = knn_.predict(X1_test)\n",
        "conf_mat = confusion_matrix(y1_test, y_pred)\n",
        "conf_mat"
      ],
      "execution_count": null,
      "outputs": [
        {
          "output_type": "execute_result",
          "data": {
            "text/plain": [
              "array([[ 0,  3,  2,  0],\n",
              "       [ 0,  3,  8,  0],\n",
              "       [ 0,  3, 94,  0],\n",
              "       [ 0,  0, 30,  4]])"
            ]
          },
          "metadata": {
            "tags": []
          },
          "execution_count": 97
        }
      ]
    },
    {
      "cell_type": "code",
      "metadata": {
        "colab": {
          "base_uri": "https://localhost:8080/"
        },
        "id": "1bGl4dTWXbrn",
        "outputId": "cf5410c8-3c07-4faa-cd72-6043ac0052b0"
      },
      "source": [
        "#naive bayes\n",
        "naive_ = GaussianNB()\n",
        "naive_.fit(X1_train, y1_train)\n",
        "score = naive_.score(X1_test, y1_test)\n",
        "score"
      ],
      "execution_count": null,
      "outputs": [
        {
          "output_type": "execute_result",
          "data": {
            "text/plain": [
              "0.6394557823129252"
            ]
          },
          "metadata": {
            "tags": []
          },
          "execution_count": 98
        }
      ]
    },
    {
      "cell_type": "code",
      "metadata": {
        "colab": {
          "base_uri": "https://localhost:8080/"
        },
        "id": "_bYAbz6AXl62",
        "outputId": "b8784162-d7a0-466d-e31f-7830a67a0a52"
      },
      "source": [
        "#RandomForestClassifier\n",
        "randomforest_ = RandomForestClassifier()\n",
        "randomforest_.fit(X1_train, y1_train)\n",
        "score = randomforest_.score(X1_test, y1_test)\n",
        "score"
      ],
      "execution_count": null,
      "outputs": [
        {
          "output_type": "execute_result",
          "data": {
            "text/plain": [
              "0.6462585034013606"
            ]
          },
          "metadata": {
            "tags": []
          },
          "execution_count": 99
        }
      ]
    },
    {
      "cell_type": "code",
      "metadata": {
        "colab": {
          "base_uri": "https://localhost:8080/"
        },
        "id": "F16cQTfSXtXP",
        "outputId": "5faface4-8dde-434d-dba7-6c69ebefae38"
      },
      "source": [
        "#DecisionTreeClassifier\n",
        "decisionTree_ = DecisionTreeClassifier()\n",
        "decisionTree_.fit(X1_train, y1_train)\n",
        "score = decisionTree_.score(X1_test, y1_test)\n",
        "score"
      ],
      "execution_count": null,
      "outputs": [
        {
          "output_type": "execute_result",
          "data": {
            "text/plain": [
              "0.6870748299319728"
            ]
          },
          "metadata": {
            "tags": []
          },
          "execution_count": 100
        }
      ]
    },
    {
      "cell_type": "code",
      "metadata": {
        "colab": {
          "base_uri": "https://localhost:8080/"
        },
        "id": "t-3WhmizXxmt",
        "outputId": "09ea663a-ad2a-429b-c2a5-46b2f7c05606"
      },
      "source": [
        "#LogisticRegression\n",
        "logisticRegression_ = LogisticRegression()\n",
        "logisticRegression_.fit(X1_train, y1_train)\n",
        "score = logisticRegression_.score(X1_test, y1_test)\n",
        "score"
      ],
      "execution_count": null,
      "outputs": [
        {
          "output_type": "execute_result",
          "data": {
            "text/plain": [
              "0.6666666666666666"
            ]
          },
          "metadata": {
            "tags": []
          },
          "execution_count": 101
        }
      ]
    },
    {
      "cell_type": "markdown",
      "metadata": {
        "id": "OIlD1ow0Iwxp"
      },
      "source": [
        "# **2). Prediction of Students sleeping habits affected by tools**\n"
      ]
    },
    {
      "cell_type": "code",
      "metadata": {
        "id": "5BUk__ltIwxp"
      },
      "source": [
        "X_model2 = df[['After_sleeping_habits_affected_by_tools_feedback',\n",
        "                'Before_sleeping_habits_affected_by_tools_feedback',\n",
        "                'Before_electronic_screens_exhausting_feedback',\n",
        "                'After_electronic_screens_exhausting_feedback',\n",
        "                'Before_sleeping_Time_feedback',\n",
        "                ]].values\n",
        "X_model2 = preprocessing.StandardScaler().fit(X_model2).transform(X_model2.astype(float))\n",
        "y_model2 = df['After_sleeping_Time_feedback'].values"
      ],
      "execution_count": null,
      "outputs": []
    },
    {
      "cell_type": "code",
      "metadata": {
        "colab": {
          "base_uri": "https://localhost:8080/"
        },
        "id": "Xi9IgnlWIwxp",
        "outputId": "9481dae8-7156-4985-9ed4-6098d906fcdd"
      },
      "source": [
        "X2_train, X2_test, y2_train, y2_test = train_test_split(X_model2, y_model2, test_size=0.2)\n",
        "# train data using X_train and Y_train variable\n",
        "kf_repeated = RepeatedKFold(n_splits=40, n_repeats=3, random_state=1)\n",
        "kf_repeated.get_n_splits(X_model2)\n",
        "\n",
        "for train_index, test_index in kf_repeated.split(X_model2):\n",
        "    X2_train, X2_test = X_model2[train_index], X_model2[test_index]\n",
        "    y2_train, y2_test = y_model2[train_index], y_model2[test_index]\n",
        "\n",
        "knn_model = KNeighborsClassifier()\n",
        "scores = cross_val_score(knn_model, X2_train, y2_train, scoring='accuracy', cv=kf_repeated, n_jobs=-1)\n",
        "scores"
      ],
      "execution_count": null,
      "outputs": [
        {
          "output_type": "execute_result",
          "data": {
            "text/plain": [
              "array([0.61111111, 0.55555556, 0.5       , 0.5       , 0.5       ,\n",
              "       0.83333333, 0.38888889, 0.33333333, 0.33333333, 0.5       ,\n",
              "       0.38888889, 0.5       , 0.38888889, 0.33333333, 0.61111111,\n",
              "       0.5       , 0.33333333, 0.27777778, 0.61111111, 0.38888889,\n",
              "       0.44444444, 0.38888889, 0.55555556, 0.27777778, 0.33333333,\n",
              "       0.27777778, 0.33333333, 0.61111111, 0.38888889, 0.55555556,\n",
              "       0.5       , 0.44444444, 0.38888889, 0.29411765, 0.58823529,\n",
              "       0.47058824, 0.47058824, 0.47058824, 0.52941176, 0.58823529,\n",
              "       0.38888889, 0.38888889, 0.5       , 0.33333333, 0.38888889,\n",
              "       0.61111111, 0.5       , 0.38888889, 0.33333333, 0.72222222,\n",
              "       0.55555556, 0.5       , 0.38888889, 0.44444444, 0.55555556,\n",
              "       0.44444444, 0.44444444, 0.61111111, 0.5       , 0.61111111,\n",
              "       0.38888889, 0.61111111, 0.55555556, 0.61111111, 0.44444444,\n",
              "       0.38888889, 0.38888889, 0.38888889, 0.44444444, 0.33333333,\n",
              "       0.61111111, 0.38888889, 0.38888889, 0.47058824, 0.11764706,\n",
              "       0.47058824, 0.41176471, 0.47058824, 0.35294118, 0.47058824,\n",
              "       0.38888889, 0.55555556, 0.44444444, 0.55555556, 0.38888889,\n",
              "       0.5       , 0.5       , 0.38888889, 0.55555556, 0.61111111,\n",
              "       0.27777778, 0.44444444, 0.44444444, 0.38888889, 0.38888889,\n",
              "       0.38888889, 0.44444444, 0.5       , 0.33333333, 0.38888889,\n",
              "       0.44444444, 0.55555556, 0.33333333, 0.38888889, 0.33333333,\n",
              "       0.61111111, 0.61111111, 0.55555556, 0.77777778, 0.55555556,\n",
              "       0.5       , 0.5       , 0.66666667, 0.47058824, 0.17647059,\n",
              "       0.58823529, 0.58823529, 0.41176471, 0.41176471, 0.17647059])"
            ]
          },
          "metadata": {
            "tags": []
          },
          "execution_count": 103
        }
      ]
    },
    {
      "cell_type": "code",
      "metadata": {
        "colab": {
          "base_uri": "https://localhost:8080/"
        },
        "id": "kpOCAB07Wtvu",
        "outputId": "90fc87d4-bf50-4af2-a685-ad23f5f71ecf"
      },
      "source": [
        "#Model giving maximum accuracy \n",
        "scores.max()"
      ],
      "execution_count": null,
      "outputs": [
        {
          "output_type": "execute_result",
          "data": {
            "text/plain": [
              "0.8333333333333334"
            ]
          },
          "metadata": {
            "tags": []
          },
          "execution_count": 104
        }
      ]
    },
    {
      "cell_type": "code",
      "metadata": {
        "colab": {
          "base_uri": "https://localhost:8080/"
        },
        "id": "R4LJga90ZVqS",
        "outputId": "1b14aeed-fdb1-4b5c-c3ff-0fbecf8824e5"
      },
      "source": [
        "naiveBayes_model = GaussianNB()\n",
        "scores = cross_val_score(naiveBayes_model, X2_train, y2_train, scoring='accuracy', cv=kf_repeated, n_jobs=-1)\n",
        "scores"
      ],
      "execution_count": null,
      "outputs": [
        {
          "output_type": "execute_result",
          "data": {
            "text/plain": [
              "array([0.38888889, 0.11111111, 0.38888889, 0.44444444, 0.27777778,\n",
              "       0.38888889, 0.33333333, 0.33333333, 0.33333333, 0.38888889,\n",
              "       0.44444444, 0.27777778, 0.11111111, 0.38888889, 0.22222222,\n",
              "       0.5       , 0.38888889, 0.16666667, 0.38888889, 0.44444444,\n",
              "       0.22222222, 0.27777778, 0.44444444, 0.22222222, 0.44444444,\n",
              "       0.33333333, 0.66666667, 0.16666667, 0.27777778, 0.33333333,\n",
              "       0.38888889, 0.38888889, 0.22222222, 0.29411765, 0.41176471,\n",
              "       0.52941176, 0.35294118, 0.41176471, 0.29411765, 0.52941176,\n",
              "       0.38888889, 0.33333333, 0.44444444, 0.33333333, 0.33333333,\n",
              "       0.44444444, 0.38888889, 0.22222222, 0.38888889, 0.27777778,\n",
              "       0.27777778, 0.22222222, 0.44444444, 0.11111111, 0.33333333,\n",
              "       0.16666667, 0.38888889, 0.44444444, 0.27777778, 0.5       ,\n",
              "       0.5       , 0.16666667, 0.22222222, 0.44444444, 0.38888889,\n",
              "       0.33333333, 0.22222222, 0.27777778, 0.44444444, 0.27777778,\n",
              "       0.38888889, 0.38888889, 0.27777778, 0.41176471, 0.23529412,\n",
              "       0.41176471, 0.47058824, 0.29411765, 0.47058824, 0.41176471,\n",
              "       0.44444444, 0.27777778, 0.27777778, 0.33333333, 0.27777778,\n",
              "       0.22222222, 0.33333333, 0.22222222, 0.55555556, 0.44444444,\n",
              "       0.16666667, 0.5       , 0.33333333, 0.33333333, 0.22222222,\n",
              "       0.27777778, 0.33333333, 0.27777778, 0.38888889, 0.38888889,\n",
              "       0.22222222, 0.33333333, 0.22222222, 0.33333333, 0.44444444,\n",
              "       0.44444444, 0.5       , 0.5       , 0.61111111, 0.33333333,\n",
              "       0.16666667, 0.27777778, 0.16666667, 0.41176471, 0.11764706,\n",
              "       0.35294118, 0.64705882, 0.41176471, 0.11764706, 0.23529412])"
            ]
          },
          "metadata": {
            "tags": []
          },
          "execution_count": 105
        }
      ]
    },
    {
      "cell_type": "code",
      "metadata": {
        "colab": {
          "base_uri": "https://localhost:8080/"
        },
        "id": "-hjwEIrxZgOi",
        "outputId": "38a94c3d-99f1-4e93-c6ca-7b6016310d80"
      },
      "source": [
        "#Naive bayes #KFOLD\n",
        "scores.max()"
      ],
      "execution_count": null,
      "outputs": [
        {
          "output_type": "execute_result",
          "data": {
            "text/plain": [
              "0.6666666666666666"
            ]
          },
          "metadata": {
            "tags": []
          },
          "execution_count": 106
        }
      ]
    },
    {
      "cell_type": "code",
      "metadata": {
        "colab": {
          "base_uri": "https://localhost:8080/"
        },
        "id": "ZZ9I1P33ZrMX",
        "outputId": "01872a75-2232-46fa-8b3e-0b87a0f6d128"
      },
      "source": [
        "randomforest_model = RandomForestClassifier()\n",
        "scores = cross_val_score(randomforest_model, X2_train, y2_train, scoring='accuracy', cv=kf_repeated, n_jobs=-1)\n",
        "scores"
      ],
      "execution_count": null,
      "outputs": [
        {
          "output_type": "execute_result",
          "data": {
            "text/plain": [
              "array([0.44444444, 0.61111111, 0.55555556, 0.44444444, 0.55555556,\n",
              "       0.66666667, 0.38888889, 0.33333333, 0.38888889, 0.66666667,\n",
              "       0.38888889, 0.66666667, 0.55555556, 0.5       , 0.55555556,\n",
              "       0.55555556, 0.44444444, 0.44444444, 0.66666667, 0.55555556,\n",
              "       0.55555556, 0.72222222, 0.61111111, 0.27777778, 0.44444444,\n",
              "       0.38888889, 0.5       , 0.61111111, 0.5       , 0.5       ,\n",
              "       0.5       , 0.66666667, 0.44444444, 0.29411765, 0.58823529,\n",
              "       0.58823529, 0.41176471, 0.64705882, 0.58823529, 0.47058824,\n",
              "       0.33333333, 0.44444444, 0.77777778, 0.44444444, 0.44444444,\n",
              "       0.61111111, 0.66666667, 0.72222222, 0.38888889, 0.55555556,\n",
              "       0.5       , 0.55555556, 0.33333333, 0.38888889, 0.61111111,\n",
              "       0.44444444, 0.5       , 0.5       , 0.55555556, 0.66666667,\n",
              "       0.44444444, 0.5       , 0.44444444, 0.61111111, 0.66666667,\n",
              "       0.55555556, 0.55555556, 0.38888889, 0.55555556, 0.33333333,\n",
              "       0.66666667, 0.5       , 0.61111111, 0.58823529, 0.41176471,\n",
              "       0.41176471, 0.35294118, 0.47058824, 0.64705882, 0.58823529,\n",
              "       0.38888889, 0.5       , 0.72222222, 0.5       , 0.33333333,\n",
              "       0.44444444, 0.55555556, 0.55555556, 0.44444444, 0.66666667,\n",
              "       0.38888889, 0.55555556, 0.66666667, 0.5       , 0.44444444,\n",
              "       0.44444444, 0.61111111, 0.55555556, 0.5       , 0.55555556,\n",
              "       0.5       , 0.44444444, 0.33333333, 0.55555556, 0.33333333,\n",
              "       0.55555556, 0.55555556, 0.72222222, 0.72222222, 0.55555556,\n",
              "       0.5       , 0.38888889, 0.72222222, 0.58823529, 0.29411765,\n",
              "       0.47058824, 0.64705882, 0.58823529, 0.58823529, 0.52941176])"
            ]
          },
          "metadata": {
            "tags": []
          },
          "execution_count": 107
        }
      ]
    },
    {
      "cell_type": "code",
      "metadata": {
        "colab": {
          "base_uri": "https://localhost:8080/"
        },
        "id": "A9MUWyv5Z0KZ",
        "outputId": "fbcf14c2-1b2f-450b-c5c1-dbb6d1d5dc72"
      },
      "source": [
        "#Random Forest #KFOLD\n",
        "scores.max()"
      ],
      "execution_count": null,
      "outputs": [
        {
          "output_type": "execute_result",
          "data": {
            "text/plain": [
              "0.7777777777777778"
            ]
          },
          "metadata": {
            "tags": []
          },
          "execution_count": 108
        }
      ]
    },
    {
      "cell_type": "code",
      "metadata": {
        "colab": {
          "base_uri": "https://localhost:8080/"
        },
        "id": "oZsoz3DBaE8U",
        "outputId": "c1432cbc-9663-492b-bed8-7636d833b47b"
      },
      "source": [
        "decisionTree_model = DecisionTreeClassifier()\n",
        "scores = cross_val_score(decisionTree_model, X2_train, y2_train, scoring='accuracy', cv=kf_repeated, n_jobs=-1)\n",
        "scores"
      ],
      "execution_count": null,
      "outputs": [
        {
          "output_type": "execute_result",
          "data": {
            "text/plain": [
              "array([0.44444444, 0.61111111, 0.5       , 0.44444444, 0.55555556,\n",
              "       0.66666667, 0.38888889, 0.33333333, 0.44444444, 0.66666667,\n",
              "       0.38888889, 0.61111111, 0.5       , 0.5       , 0.5       ,\n",
              "       0.55555556, 0.44444444, 0.33333333, 0.83333333, 0.5       ,\n",
              "       0.5       , 0.61111111, 0.66666667, 0.27777778, 0.38888889,\n",
              "       0.27777778, 0.5       , 0.61111111, 0.55555556, 0.5       ,\n",
              "       0.5       , 0.66666667, 0.44444444, 0.29411765, 0.47058824,\n",
              "       0.58823529, 0.41176471, 0.58823529, 0.58823529, 0.52941176,\n",
              "       0.33333333, 0.44444444, 0.72222222, 0.38888889, 0.38888889,\n",
              "       0.55555556, 0.61111111, 0.66666667, 0.38888889, 0.55555556,\n",
              "       0.5       , 0.61111111, 0.38888889, 0.44444444, 0.61111111,\n",
              "       0.44444444, 0.5       , 0.5       , 0.5       , 0.66666667,\n",
              "       0.38888889, 0.55555556, 0.44444444, 0.61111111, 0.66666667,\n",
              "       0.5       , 0.55555556, 0.38888889, 0.55555556, 0.33333333,\n",
              "       0.66666667, 0.5       , 0.61111111, 0.58823529, 0.35294118,\n",
              "       0.41176471, 0.35294118, 0.35294118, 0.64705882, 0.58823529,\n",
              "       0.44444444, 0.55555556, 0.66666667, 0.5       , 0.33333333,\n",
              "       0.44444444, 0.55555556, 0.55555556, 0.44444444, 0.66666667,\n",
              "       0.33333333, 0.44444444, 0.66666667, 0.5       , 0.5       ,\n",
              "       0.44444444, 0.5       , 0.61111111, 0.44444444, 0.61111111,\n",
              "       0.5       , 0.33333333, 0.38888889, 0.5       , 0.27777778,\n",
              "       0.55555556, 0.55555556, 0.72222222, 0.66666667, 0.55555556,\n",
              "       0.55555556, 0.38888889, 0.61111111, 0.52941176, 0.29411765,\n",
              "       0.47058824, 0.58823529, 0.58823529, 0.64705882, 0.52941176])"
            ]
          },
          "metadata": {
            "tags": []
          },
          "execution_count": 109
        }
      ]
    },
    {
      "cell_type": "code",
      "metadata": {
        "colab": {
          "base_uri": "https://localhost:8080/"
        },
        "id": "z8H26uGHaPRd",
        "outputId": "f4871300-27df-48c4-aaca-d4c2de0fc399"
      },
      "source": [
        "#KFOLD #Decisiontree\n",
        "scores.max()"
      ],
      "execution_count": null,
      "outputs": [
        {
          "output_type": "execute_result",
          "data": {
            "text/plain": [
              "0.8333333333333334"
            ]
          },
          "metadata": {
            "tags": []
          },
          "execution_count": 110
        }
      ]
    },
    {
      "cell_type": "code",
      "metadata": {
        "colab": {
          "base_uri": "https://localhost:8080/"
        },
        "id": "xFFprpMdaajy",
        "outputId": "d37d1913-0adb-4f96-fe76-e212769647f0"
      },
      "source": [
        "logistic_model = LogisticRegression()\n",
        "scores = cross_val_score(logistic_model, X2_train, y2_train, scoring='accuracy', cv=kf_repeated, n_jobs=-1)\n",
        "scores"
      ],
      "execution_count": null,
      "outputs": [
        {
          "output_type": "execute_result",
          "data": {
            "text/plain": [
              "array([0.44444444, 0.38888889, 0.5       , 0.38888889, 0.38888889,\n",
              "       0.5       , 0.33333333, 0.38888889, 0.44444444, 0.44444444,\n",
              "       0.27777778, 0.44444444, 0.11111111, 0.55555556, 0.27777778,\n",
              "       0.44444444, 0.33333333, 0.22222222, 0.55555556, 0.5       ,\n",
              "       0.33333333, 0.33333333, 0.55555556, 0.38888889, 0.44444444,\n",
              "       0.27777778, 0.44444444, 0.16666667, 0.55555556, 0.44444444,\n",
              "       0.33333333, 0.44444444, 0.38888889, 0.29411765, 0.58823529,\n",
              "       0.35294118, 0.17647059, 0.35294118, 0.58823529, 0.58823529,\n",
              "       0.44444444, 0.44444444, 0.38888889, 0.33333333, 0.27777778,\n",
              "       0.55555556, 0.61111111, 0.5       , 0.22222222, 0.5       ,\n",
              "       0.5       , 0.55555556, 0.27777778, 0.33333333, 0.44444444,\n",
              "       0.27777778, 0.44444444, 0.38888889, 0.5       , 0.38888889,\n",
              "       0.5       , 0.27777778, 0.16666667, 0.38888889, 0.5       ,\n",
              "       0.33333333, 0.27777778, 0.22222222, 0.55555556, 0.44444444,\n",
              "       0.16666667, 0.72222222, 0.33333333, 0.58823529, 0.52941176,\n",
              "       0.35294118, 0.29411765, 0.35294118, 0.52941176, 0.29411765,\n",
              "       0.44444444, 0.33333333, 0.5       , 0.22222222, 0.33333333,\n",
              "       0.5       , 0.5       , 0.44444444, 0.5       , 0.44444444,\n",
              "       0.22222222, 0.55555556, 0.33333333, 0.38888889, 0.44444444,\n",
              "       0.44444444, 0.22222222, 0.44444444, 0.5       , 0.55555556,\n",
              "       0.44444444, 0.33333333, 0.27777778, 0.38888889, 0.55555556,\n",
              "       0.61111111, 0.27777778, 0.38888889, 0.55555556, 0.16666667,\n",
              "       0.38888889, 0.38888889, 0.44444444, 0.35294118, 0.23529412,\n",
              "       0.41176471, 0.41176471, 0.41176471, 0.35294118, 0.47058824])"
            ]
          },
          "metadata": {
            "tags": []
          },
          "execution_count": 111
        }
      ]
    },
    {
      "cell_type": "code",
      "metadata": {
        "colab": {
          "base_uri": "https://localhost:8080/"
        },
        "id": "esJSgqtSajoG",
        "outputId": "af317e96-177b-49a3-bbb8-a9e1be8c5b9b"
      },
      "source": [
        "scores.max()"
      ],
      "execution_count": null,
      "outputs": [
        {
          "output_type": "execute_result",
          "data": {
            "text/plain": [
              "0.7222222222222222"
            ]
          },
          "metadata": {
            "tags": []
          },
          "execution_count": 112
        }
      ]
    },
    {
      "cell_type": "code",
      "metadata": {
        "id": "21G49kEZkRR-"
      },
      "source": [
        "X2_train, X2_test, y2_train, y2_test = train_test_split(X_model2, y_model2, test_size=0.2)\n"
      ],
      "execution_count": null,
      "outputs": []
    },
    {
      "cell_type": "code",
      "metadata": {
        "colab": {
          "base_uri": "https://localhost:8080/"
        },
        "id": "G8XLYVuiUZw9",
        "outputId": "1e2122a6-9850-4433-8a54-3764de201702"
      },
      "source": [
        "#simple KNN\n",
        "knn_ = KNeighborsClassifier(n_neighbors=50)\n",
        "knn_.fit(X2_train, y2_train)\n",
        "score = knn_.score(X2_test, y2_test)\n",
        "score"
      ],
      "execution_count": null,
      "outputs": [
        {
          "output_type": "execute_result",
          "data": {
            "text/plain": [
              "0.40816326530612246"
            ]
          },
          "metadata": {
            "tags": []
          },
          "execution_count": 114
        }
      ]
    },
    {
      "cell_type": "code",
      "metadata": {
        "colab": {
          "base_uri": "https://localhost:8080/"
        },
        "id": "ATLObwqdU8TP",
        "outputId": "a895e5aa-f66e-4070-d21c-8bf12ecb7eee"
      },
      "source": [
        "#naive bayes\n",
        "naive_ = GaussianNB()\n",
        "naive_.fit(X2_train, y2_train)\n",
        "score = naive_.score(X2_test, y2_test)\n",
        "score"
      ],
      "execution_count": null,
      "outputs": [
        {
          "output_type": "execute_result",
          "data": {
            "text/plain": [
              "0.3673469387755102"
            ]
          },
          "metadata": {
            "tags": []
          },
          "execution_count": 115
        }
      ]
    },
    {
      "cell_type": "code",
      "metadata": {
        "colab": {
          "base_uri": "https://localhost:8080/"
        },
        "id": "C9gbQGNfVrEi",
        "outputId": "e37da954-2489-4d42-d6ca-b23ee5f6e20e"
      },
      "source": [
        "#RandomForestClassifier\n",
        "randomforest_ = RandomForestClassifier()\n",
        "randomforest_.fit(X2_train, y2_train)\n",
        "score = randomforest_.score(X2_test, y2_test)\n",
        "score"
      ],
      "execution_count": null,
      "outputs": [
        {
          "output_type": "execute_result",
          "data": {
            "text/plain": [
              "0.5238095238095238"
            ]
          },
          "metadata": {
            "tags": []
          },
          "execution_count": 116
        }
      ]
    },
    {
      "cell_type": "code",
      "metadata": {
        "colab": {
          "base_uri": "https://localhost:8080/"
        },
        "id": "OuGvia-QWKaj",
        "outputId": "4dca7e18-4a39-41d5-c351-f7936be5a603"
      },
      "source": [
        "#DecisionTreeClassifier\n",
        "decisionTree_ = DecisionTreeClassifier()\n",
        "decisionTree_.fit(X2_train, y2_train)\n",
        "score = decisionTree_.score(X2_test, y2_test)\n",
        "score"
      ],
      "execution_count": null,
      "outputs": [
        {
          "output_type": "execute_result",
          "data": {
            "text/plain": [
              "0.5306122448979592"
            ]
          },
          "metadata": {
            "tags": []
          },
          "execution_count": 117
        }
      ]
    },
    {
      "cell_type": "code",
      "metadata": {
        "colab": {
          "base_uri": "https://localhost:8080/"
        },
        "id": "4fbwGjmSWnEg",
        "outputId": "3277aa94-85d6-47b8-bf7a-19f6bf7ba9b4"
      },
      "source": [
        "#LogisticRegression\n",
        "logisticRegression_ = LogisticRegression()\n",
        "logisticRegression_.fit(X2_train, y2_train)\n",
        "score = logisticRegression_.score(X2_test, y2_test)\n",
        "score"
      ],
      "execution_count": null,
      "outputs": [
        {
          "output_type": "execute_result",
          "data": {
            "text/plain": [
              "0.4013605442176871"
            ]
          },
          "metadata": {
            "tags": []
          },
          "execution_count": 118
        }
      ]
    },
    {
      "cell_type": "markdown",
      "metadata": {
        "id": "ni0oOTSzIwxq"
      },
      "source": [
        "# **3). Prediction of Academics performance**"
      ]
    },
    {
      "cell_type": "code",
      "metadata": {
        "id": "rng5Nv7wIwxq"
      },
      "source": [
        "X_model3 = df[['Poor_performance_by_e-learning',\n",
        "               'Face-to-face_interaction_for_academic_performance',\n",
        "               'Negative_performance_for_online_Exams',\n",
        "               'Online_learning_not_good_feedback',\n",
        "               'E_learning_tools_tension_feedback',\n",
        "               ]].values\n",
        "X_model3 = preprocessing.StandardScaler().fit(X_model3).transform(X_model3.astype(float))\n",
        "y_model3 = df[ 'Study_affected_by_digital_tools'].values"
      ],
      "execution_count": null,
      "outputs": []
    },
    {
      "cell_type": "code",
      "metadata": {
        "colab": {
          "base_uri": "https://localhost:8080/"
        },
        "id": "KBn5us6HIwxq",
        "outputId": "a1d1c086-f4c2-460f-9d18-dd330940b0ea"
      },
      "source": [
        "X3_train, X3_test, y3_train, y3_test = train_test_split(X_model3, y_model3, test_size=0.2)\n",
        "# train data using X_train and Y_train variable\n",
        "kf = KFold(n_splits=50, random_state=None, shuffle=True)\n",
        "kf.get_n_splits(X_model3)\n",
        "for train_index, test_index in kf.split(X_model3):\n",
        "    X3_train, X3_test = X_model3[train_index], X_model3[test_index]\n",
        "    y3_train, y3_test = y_model3[train_index], y_model3[test_index]\n",
        "\n",
        "knn_model = KNeighborsClassifier()\n",
        "scores = cross_val_score(knn_model, X3_train, y3_train, scoring='accuracy', cv=kf, n_jobs=-1)\n",
        "scores"
      ],
      "execution_count": null,
      "outputs": [
        {
          "output_type": "execute_result",
          "data": {
            "text/plain": [
              "array([0.6       , 0.86666667, 0.66666667, 0.53333333, 0.6       ,\n",
              "       0.53333333, 0.66666667, 0.53333333, 0.73333333, 0.66666667,\n",
              "       0.6       , 0.46666667, 0.53333333, 0.8       , 0.53333333,\n",
              "       0.53333333, 0.73333333, 0.5       , 0.64285714, 0.64285714,\n",
              "       0.71428571, 0.5       , 0.71428571, 0.5       , 0.71428571,\n",
              "       0.78571429, 0.42857143, 0.5       , 0.78571429, 0.57142857,\n",
              "       0.5       , 0.64285714, 0.64285714, 0.92857143, 0.42857143,\n",
              "       0.5       , 0.64285714, 0.5       , 0.57142857, 0.42857143,\n",
              "       0.57142857, 0.57142857, 0.5       , 0.42857143, 0.57142857,\n",
              "       0.5       , 0.71428571, 0.64285714, 0.42857143, 0.64285714])"
            ]
          },
          "metadata": {
            "tags": []
          },
          "execution_count": 120
        }
      ]
    },
    {
      "cell_type": "code",
      "metadata": {
        "colab": {
          "base_uri": "https://localhost:8080/"
        },
        "id": "6lwh_6ixeG2Q",
        "outputId": "7811032d-ff42-4160-9130-2c6db388cd24"
      },
      "source": [
        "#Model giving maximum accuracy\n",
        "#KNN #KFOLD\n",
        "max(scores)"
      ],
      "execution_count": null,
      "outputs": [
        {
          "output_type": "execute_result",
          "data": {
            "text/plain": [
              "0.9285714285714286"
            ]
          },
          "metadata": {
            "tags": []
          },
          "execution_count": 121
        }
      ]
    },
    {
      "cell_type": "code",
      "metadata": {
        "id": "gQarilRpkYX_"
      },
      "source": [
        "X3_train, X3_test, y3_train, y3_test = train_test_split(X_model3, y_model3, test_size=0.2)\n"
      ],
      "execution_count": null,
      "outputs": []
    },
    {
      "cell_type": "code",
      "metadata": {
        "colab": {
          "base_uri": "https://localhost:8080/"
        },
        "id": "oSDm6DyXYzl0",
        "outputId": "1aa7cfff-4048-48e4-9e79-ec6579f2dcc1"
      },
      "source": [
        "kfold_model = GaussianNB()\n",
        "scores = cross_val_score(kfold_model, X3_train, y3_train, scoring='accuracy', cv=kf, n_jobs=-1)\n",
        "scores"
      ],
      "execution_count": null,
      "outputs": [
        {
          "output_type": "execute_result",
          "data": {
            "text/plain": [
              "array([0.75      , 0.66666667, 0.5       , 0.5       , 0.66666667,\n",
              "       0.58333333, 0.41666667, 0.66666667, 0.66666667, 0.58333333,\n",
              "       0.75      , 0.58333333, 0.66666667, 0.58333333, 0.41666667,\n",
              "       0.5       , 0.91666667, 0.58333333, 0.75      , 0.75      ,\n",
              "       0.58333333, 0.75      , 0.66666667, 0.66666667, 0.91666667,\n",
              "       0.41666667, 0.58333333, 0.5       , 0.75      , 0.33333333,\n",
              "       0.75      , 0.83333333, 0.58333333, 0.66666667, 0.81818182,\n",
              "       0.72727273, 0.54545455, 0.72727273, 0.81818182, 0.54545455,\n",
              "       0.45454545, 0.63636364, 0.54545455, 0.72727273, 0.81818182,\n",
              "       0.81818182, 0.54545455, 0.72727273, 0.72727273, 0.63636364])"
            ]
          },
          "metadata": {
            "tags": []
          },
          "execution_count": 123
        }
      ]
    },
    {
      "cell_type": "code",
      "metadata": {
        "colab": {
          "base_uri": "https://localhost:8080/"
        },
        "id": "UcE8lCsDZFeV",
        "outputId": "4b70d0f0-ad4f-4f4b-c66e-83797151424e"
      },
      "source": [
        "#Naive bayes #KFOLD\n",
        "scores.max()"
      ],
      "execution_count": null,
      "outputs": [
        {
          "output_type": "execute_result",
          "data": {
            "text/plain": [
              "0.9166666666666666"
            ]
          },
          "metadata": {
            "tags": []
          },
          "execution_count": 124
        }
      ]
    },
    {
      "cell_type": "code",
      "metadata": {
        "colab": {
          "base_uri": "https://localhost:8080/"
        },
        "id": "4qiWrDt0XABt",
        "outputId": "3b781fcf-e415-415b-9388-9a54272a2f3c"
      },
      "source": [
        "#simple KNN\n",
        "knn_ = KNeighborsClassifier(n_neighbors=60)\n",
        "knn_.fit(X3_train, y3_train)\n",
        "score = knn_.score(X3_test, y3_test)\n",
        "score"
      ],
      "execution_count": null,
      "outputs": [
        {
          "output_type": "execute_result",
          "data": {
            "text/plain": [
              "0.6326530612244898"
            ]
          },
          "metadata": {
            "tags": []
          },
          "execution_count": 125
        }
      ]
    },
    {
      "cell_type": "code",
      "metadata": {
        "colab": {
          "base_uri": "https://localhost:8080/"
        },
        "id": "-FjWpFFzX-l_",
        "outputId": "f221640b-0387-43cf-b009-e91b9fb51f6e"
      },
      "source": [
        "#naive bayes\n",
        "naive_ = GaussianNB()\n",
        "naive_.fit(X3_train, y3_train)\n",
        "score = naive_.score(X3_test, y3_test)\n",
        "score"
      ],
      "execution_count": null,
      "outputs": [
        {
          "output_type": "execute_result",
          "data": {
            "text/plain": [
              "0.6598639455782312"
            ]
          },
          "metadata": {
            "tags": []
          },
          "execution_count": 126
        }
      ]
    },
    {
      "cell_type": "code",
      "metadata": {
        "colab": {
          "base_uri": "https://localhost:8080/"
        },
        "id": "vXh7gUnKYN8Z",
        "outputId": "a2f754e7-92b2-41ec-e678-a612b5140143"
      },
      "source": [
        "#RandomForestClassifier\n",
        "randomforest_ = RandomForestClassifier()\n",
        "randomforest_.fit(X3_train, y3_train)\n",
        "score = randomforest_.score(X3_test, y3_test)\n",
        "score"
      ],
      "execution_count": null,
      "outputs": [
        {
          "output_type": "execute_result",
          "data": {
            "text/plain": [
              "0.6530612244897959"
            ]
          },
          "metadata": {
            "tags": []
          },
          "execution_count": 127
        }
      ]
    },
    {
      "cell_type": "code",
      "metadata": {
        "colab": {
          "base_uri": "https://localhost:8080/"
        },
        "id": "oCzPeMlLYb22",
        "outputId": "a55ef905-8e04-4f18-e70c-41e0817c6b3e"
      },
      "source": [
        "#DecisionTreeClassifier\n",
        "decisionTree_ = DecisionTreeClassifier()\n",
        "decisionTree_.fit(X3_train, y3_train)\n",
        "score = decisionTree_.score(X3_test, y3_test)\n",
        "score"
      ],
      "execution_count": null,
      "outputs": [
        {
          "output_type": "execute_result",
          "data": {
            "text/plain": [
              "0.6326530612244898"
            ]
          },
          "metadata": {
            "tags": []
          },
          "execution_count": 128
        }
      ]
    },
    {
      "cell_type": "markdown",
      "metadata": {
        "id": "5dI6aQDvIwxr"
      },
      "source": [
        "# **4. Social Interaction**\n"
      ]
    },
    {
      "cell_type": "code",
      "metadata": {
        "id": "FPaAsqFSIwxr"
      },
      "source": [
        "X_model4 = df[['Social_distancing_feedback',\n",
        "               'Students_isolation_feedback',\n",
        "               'Students_social_personality_feedback',\n",
        "               ]].values\n",
        "X_model4 = preprocessing.StandardScaler().fit(X_model4).transform(X_model4.astype(float))\n",
        "y_model4 = df[ 'Staying_home_feedback'].values\n"
      ],
      "execution_count": null,
      "outputs": []
    },
    {
      "cell_type": "code",
      "metadata": {
        "colab": {
          "base_uri": "https://localhost:8080/"
        },
        "id": "PLhoAk16Iwxr",
        "outputId": "8932a861-09d6-4638-e175-6bd00fcf9660"
      },
      "source": [
        "X4_train, X4_test, y4_train, y4_test = train_test_split(X_model4, y_model4, test_size=0.2)\n",
        "# train data using X_train and Y_train variable\n",
        "kf = KFold(n_splits=50, random_state=None, shuffle=True)\n",
        "kf.get_n_splits(X_model3)\n",
        "for train_index, test_index in kf.split(X_model3):\n",
        "    X4_train, X4_test = X_model3[train_index], X_model3[test_index]\n",
        "    y4_train, y4_test = y_model3[train_index], y_model3[test_index]\n",
        "\n",
        "knn_model = KNeighborsClassifier()\n",
        "scores = cross_val_score(knn_model, X4_train, y4_train, scoring='accuracy', cv=kf, n_jobs=-1)\n",
        "scores"
      ],
      "execution_count": null,
      "outputs": [
        {
          "output_type": "execute_result",
          "data": {
            "text/plain": [
              "array([0.6       , 0.66666667, 0.4       , 0.53333333, 0.6       ,\n",
              "       0.53333333, 0.46666667, 0.53333333, 0.73333333, 0.73333333,\n",
              "       0.46666667, 0.6       , 0.73333333, 0.66666667, 0.53333333,\n",
              "       0.66666667, 0.53333333, 0.57142857, 0.71428571, 0.78571429,\n",
              "       0.35714286, 0.42857143, 0.78571429, 0.21428571, 0.78571429,\n",
              "       0.5       , 0.64285714, 0.57142857, 0.57142857, 0.78571429,\n",
              "       0.57142857, 0.57142857, 0.78571429, 0.35714286, 0.5       ,\n",
              "       0.64285714, 0.57142857, 0.78571429, 0.5       , 0.71428571,\n",
              "       0.71428571, 0.35714286, 0.5       , 0.78571429, 0.57142857,\n",
              "       0.71428571, 0.64285714, 0.57142857, 0.78571429, 0.71428571])"
            ]
          },
          "metadata": {
            "tags": []
          },
          "execution_count": 130
        }
      ]
    },
    {
      "cell_type": "code",
      "metadata": {
        "colab": {
          "base_uri": "https://localhost:8080/"
        },
        "id": "JjZKX6e1Iwxs",
        "outputId": "023d84a6-f1ea-4f61-ac9d-476e218ffbba"
      },
      "source": [
        "#Model giving maximum accuracy\n",
        "max(scores)"
      ],
      "execution_count": null,
      "outputs": [
        {
          "output_type": "execute_result",
          "data": {
            "text/plain": [
              "0.7857142857142857"
            ]
          },
          "metadata": {
            "tags": []
          },
          "execution_count": 131
        }
      ]
    },
    {
      "cell_type": "code",
      "metadata": {
        "id": "B5zayKsckhoJ"
      },
      "source": [
        "X4_train, X4_test, y4_train, y4_test = train_test_split(X_model4, y_model4, test_size=0.2)\n"
      ],
      "execution_count": null,
      "outputs": []
    },
    {
      "cell_type": "code",
      "metadata": {
        "colab": {
          "base_uri": "https://localhost:8080/"
        },
        "id": "AIWLM7uGXK0Z",
        "outputId": "1239ed89-0a0b-4e1e-ca5c-6af1dd0b2328"
      },
      "source": [
        "#simple KNN\n",
        "knn_ = KNeighborsClassifier(n_neighbors=60)\n",
        "knn_.fit(X4_train, y4_train)\n",
        "score = knn_.score(X4_test, y4_test)\n",
        "score"
      ],
      "execution_count": null,
      "outputs": [
        {
          "output_type": "execute_result",
          "data": {
            "text/plain": [
              "0.5374149659863946"
            ]
          },
          "metadata": {
            "tags": []
          },
          "execution_count": 133
        }
      ]
    },
    {
      "cell_type": "code",
      "metadata": {
        "colab": {
          "base_uri": "https://localhost:8080/"
        },
        "id": "ImlI5_RTYD4N",
        "outputId": "153ef6f7-6ace-4f56-ed7b-4564a66ce302"
      },
      "source": [
        "#naive bayes\n",
        "naive_ = GaussianNB()\n",
        "naive_.fit(X4_train, y4_train)\n",
        "score = naive_.score(X4_test, y4_test)\n",
        "score"
      ],
      "execution_count": null,
      "outputs": [
        {
          "output_type": "execute_result",
          "data": {
            "text/plain": [
              "0.46938775510204084"
            ]
          },
          "metadata": {
            "tags": []
          },
          "execution_count": 134
        }
      ]
    },
    {
      "cell_type": "code",
      "metadata": {
        "colab": {
          "base_uri": "https://localhost:8080/"
        },
        "id": "pueNVxQFYH5Q",
        "outputId": "627fe964-aaff-4166-c939-9a0af0fb10e2"
      },
      "source": [
        "#RandomForestClassifier\n",
        "randomforest_ = RandomForestClassifier()\n",
        "randomforest_.fit(X4_train, y4_train)\n",
        "score = randomforest_.score(X4_test, y4_test)\n",
        "score"
      ],
      "execution_count": null,
      "outputs": [
        {
          "output_type": "execute_result",
          "data": {
            "text/plain": [
              "0.6054421768707483"
            ]
          },
          "metadata": {
            "tags": []
          },
          "execution_count": 135
        }
      ]
    },
    {
      "cell_type": "code",
      "metadata": {
        "colab": {
          "base_uri": "https://localhost:8080/"
        },
        "id": "9kyewXFYYh6j",
        "outputId": "62c2fb49-7a8b-4cdc-a56c-efaa79a58c3d"
      },
      "source": [
        "#DecisionTreeClassifier\n",
        "decisionTree_ = DecisionTreeClassifier()\n",
        "decisionTree_.fit(X4_train, y4_train)\n",
        "score = decisionTree_.score(X4_test, y4_test)\n",
        "score"
      ],
      "execution_count": null,
      "outputs": [
        {
          "output_type": "execute_result",
          "data": {
            "text/plain": [
              "0.5986394557823129"
            ]
          },
          "metadata": {
            "tags": []
          },
          "execution_count": 136
        }
      ]
    }
  ]
}